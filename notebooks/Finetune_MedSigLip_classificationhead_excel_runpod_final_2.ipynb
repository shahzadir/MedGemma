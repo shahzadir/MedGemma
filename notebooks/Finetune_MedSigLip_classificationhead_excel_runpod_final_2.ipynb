{
 "cells": [
  {
   "cell_type": "markdown",
   "metadata": {
    "id": "NFU3B09TKuQf"
   },
   "source": [
    "### Install dependencies"
   ]
  },
  {
   "cell_type": "code",
   "execution_count": 1,
   "metadata": {
    "id": "Sgv3DCPIA5p-"
   },
   "outputs": [
    {
     "name": "stdout",
     "output_type": "stream",
     "text": [
      "\u001b[33mWARNING: Running pip as the 'root' user can result in broken permissions and conflicting behaviour with the system package manager, possibly rendering your system unusable. It is recommended to use a virtual environment instead: https://pip.pypa.io/warnings/venv. Use the --root-user-action option if you know what you are doing and want to suppress this warning.\u001b[0m\u001b[33m\n",
      "\u001b[0m\n",
      "\u001b[1m[\u001b[0m\u001b[34;49mnotice\u001b[0m\u001b[1;39;49m]\u001b[0m\u001b[39;49m A new release of pip is available: \u001b[0m\u001b[31;49m25.0.1\u001b[0m\u001b[39;49m -> \u001b[0m\u001b[32;49m25.2\u001b[0m\n",
      "\u001b[1m[\u001b[0m\u001b[34;49mnotice\u001b[0m\u001b[1;39;49m]\u001b[0m\u001b[39;49m To update, run: \u001b[0m\u001b[32;49mpython -m pip install --upgrade pip\u001b[0m\n"
     ]
    }
   ],
   "source": [
    "! pip install --quiet transformers torchvision bitsandbytes datasets evaluate peft trl scikit-learn Pillow ipywidgets jupyterlab_widgets tensorboard sentencepiece"
   ]
  },
  {
   "cell_type": "code",
   "execution_count": 2,
   "metadata": {},
   "outputs": [
    {
     "name": "stdout",
     "output_type": "stream",
     "text": [
      "Collecting openpyxl\n",
      "  Downloading openpyxl-3.1.5-py2.py3-none-any.whl.metadata (2.5 kB)\n",
      "Collecting et-xmlfile (from openpyxl)\n",
      "  Downloading et_xmlfile-2.0.0-py3-none-any.whl.metadata (2.7 kB)\n",
      "Downloading openpyxl-3.1.5-py2.py3-none-any.whl (250 kB)\n",
      "Downloading et_xmlfile-2.0.0-py3-none-any.whl (18 kB)\n",
      "Installing collected packages: et-xmlfile, openpyxl\n",
      "Successfully installed et-xmlfile-2.0.0 openpyxl-3.1.5\n",
      "\u001b[33mWARNING: Running pip as the 'root' user can result in broken permissions and conflicting behaviour with the system package manager, possibly rendering your system unusable. It is recommended to use a virtual environment instead: https://pip.pypa.io/warnings/venv. Use the --root-user-action option if you know what you are doing and want to suppress this warning.\u001b[0m\u001b[33m\n",
      "\u001b[0m\n",
      "\u001b[1m[\u001b[0m\u001b[34;49mnotice\u001b[0m\u001b[1;39;49m]\u001b[0m\u001b[39;49m A new release of pip is available: \u001b[0m\u001b[31;49m25.0.1\u001b[0m\u001b[39;49m -> \u001b[0m\u001b[32;49m25.2\u001b[0m\n",
      "\u001b[1m[\u001b[0m\u001b[34;49mnotice\u001b[0m\u001b[1;39;49m]\u001b[0m\u001b[39;49m To update, run: \u001b[0m\u001b[32;49mpython -m pip install --upgrade pip\u001b[0m\n"
     ]
    }
   ],
   "source": [
    "! pip install openpyxl"
   ]
  },
  {
   "cell_type": "markdown",
   "metadata": {
    "id": "IXh0RtBk_Xc6"
   },
   "source": [
    "## Load model from Hugging Face Hub"
   ]
  },
  {
   "cell_type": "code",
   "execution_count": 3,
   "metadata": {},
   "outputs": [],
   "source": [
    "import os\n",
    "from huggingface_hub import login\n",
    "\n"
   ]
  },
  {
   "cell_type": "code",
   "execution_count": 4,
   "metadata": {
    "id": "r-esHCwnQFye"
   },
   "outputs": [
    {
     "data": {
      "application/vnd.jupyter.widget-view+json": {
       "model_id": "d93ae34a4e404196ba745e57d14275c5",
       "version_major": 2,
       "version_minor": 0
      },
      "text/plain": [
       "config.json:   0%|          | 0.00/879 [00:00<?, ?B/s]"
      ]
     },
     "metadata": {},
     "output_type": "display_data"
    },
    {
     "data": {
      "application/vnd.jupyter.widget-view+json": {
       "model_id": "a8a49f0f886d4b69b558a2818dfe275c",
       "version_major": 2,
       "version_minor": 0
      },
      "text/plain": [
       "model.safetensors:   0%|          | 0.00/3.51G [00:00<?, ?B/s]"
      ]
     },
     "metadata": {},
     "output_type": "display_data"
    },
    {
     "data": {
      "application/vnd.jupyter.widget-view+json": {
       "model_id": "ebd99413127940d59e8166258050ac3f",
       "version_major": 2,
       "version_minor": 0
      },
      "text/plain": [
       "preprocessor_config.json:   0%|          | 0.00/360 [00:00<?, ?B/s]"
      ]
     },
     "metadata": {},
     "output_type": "display_data"
    },
    {
     "name": "stderr",
     "output_type": "stream",
     "text": [
      "Using a slow image processor as `use_fast` is unset and a slow processor was saved with this model. `use_fast=True` will be the default behavior in v4.52, even if the model was saved with a slow processor. This will result in minor differences in outputs. You'll still be able to use a slow processor with `use_fast=False`.\n"
     ]
    },
    {
     "data": {
      "application/vnd.jupyter.widget-view+json": {
       "model_id": "a495c384ea884d7ca42692f8518d7eed",
       "version_major": 2,
       "version_minor": 0
      },
      "text/plain": [
       "tokenizer_config.json:   0%|          | 0.00/809 [00:00<?, ?B/s]"
      ]
     },
     "metadata": {},
     "output_type": "display_data"
    },
    {
     "data": {
      "application/vnd.jupyter.widget-view+json": {
       "model_id": "d3b24974633e4b7e83ad4d73df3a888b",
       "version_major": 2,
       "version_minor": 0
      },
      "text/plain": [
       "spiece.model:   0%|          | 0.00/798k [00:00<?, ?B/s]"
      ]
     },
     "metadata": {},
     "output_type": "display_data"
    },
    {
     "data": {
      "application/vnd.jupyter.widget-view+json": {
       "model_id": "d11d756789b2474898ff19bb1967c710",
       "version_major": 2,
       "version_minor": 0
      },
      "text/plain": [
       "special_tokens_map.json:   0%|          | 0.00/455 [00:00<?, ?B/s]"
      ]
     },
     "metadata": {},
     "output_type": "display_data"
    },
    {
     "data": {
      "application/vnd.jupyter.widget-view+json": {
       "model_id": "3a319ee47cf7481baa37579d64f5a517",
       "version_major": 2,
       "version_minor": 0
      },
      "text/plain": [
       "tokenizer.json:   0%|          | 0.00/2.40M [00:00<?, ?B/s]"
      ]
     },
     "metadata": {},
     "output_type": "display_data"
    }
   ],
   "source": [
    "import torch\n",
    "from transformers import AutoProcessor, AutoModel\n",
    "import torch.nn as nn\n",
    "from transformers import SiglipModel\n",
    "\n",
    "model_id = \"google/medsiglip-448\"\n",
    "\n",
    "class SiglipForClassification(nn.Module):\n",
    "    def __init__(self, siglip_model, num_classes=1):  # num_classes=1 for binary classification\n",
    "        super().__init__()\n",
    "        self.siglip = siglip_model\n",
    "        self.classifier = nn.Linear(siglip_model.config.vision_config.hidden_size, num_classes)\n",
    "        self.loss_fn = nn.BCEWithLogitsLoss()  # Binary cross-entropy loss with logits\n",
    "        \n",
    "    def forward(self, pixel_values, labels=None, **kwargs):\n",
    "        # Get vision embeddings\n",
    "        vision_outputs = self.siglip.vision_model(pixel_values=pixel_values)\n",
    "        pooled_output = vision_outputs.pooler_output\n",
    "        \n",
    "        # Get logits (single output for binary classification)\n",
    "        logits = self.classifier(pooled_output)  # Shape: [batch_size, 1]\n",
    "        \n",
    "        # Compute loss if labels are provided\n",
    "        loss = None\n",
    "        if labels is not None:\n",
    "            # Ensure labels are float and have shape [batch_size, 1]\n",
    "            labels = labels.view(-1, 1).float()  # Reshape and convert to float\n",
    "            loss = self.loss_fn(logits, labels)\n",
    "        \n",
    "        return {\n",
    "            \"loss\": loss,\n",
    "            \"logits\": logits\n",
    "        }\n",
    "\n",
    "# Load base SigLIP model\n",
    "base_model = SiglipModel.from_pretrained(model_id)\n",
    "model = SiglipForClassification(base_model, num_classes=1)  # Binary classification\n",
    "processor = AutoProcessor.from_pretrained(model_id)"
   ]
  },
  {
   "cell_type": "markdown",
   "metadata": {
    "id": "LrnDCZvvzWtS"
   },
   "source": [
    "## Prepare fine-tuning dataset\n"
   ]
  },
  {
   "cell_type": "markdown",
   "metadata": {
    "id": "WTYiM4RAjJAo"
   },
   "source": [
    "Load the data using the Hugging Face `datasets` library. Then, create train and validation splits."
   ]
  },
  {
   "cell_type": "code",
   "execution_count": 6,
   "metadata": {},
   "outputs": [
    {
     "data": {
      "application/vnd.jupyter.widget-view+json": {
       "model_id": "4602a785da7b4ac8adce812cc16ce99e",
       "version_major": 2,
       "version_minor": 0
      },
      "text/plain": [
       "Appendicitis_vs_normal.zip:   0%|          | 0.00/825M [00:00<?, ?B/s]"
      ]
     },
     "metadata": {},
     "output_type": "display_data"
    }
   ],
   "source": [
    "from datasets import load_dataset, Image\n",
    "\n",
    "\n",
    "# 1. Download and Unzip the data from Hub\n",
    "\n",
    "from huggingface_hub import hf_hub_download\n",
    "import zipfile\n",
    "import os\n",
    "\n",
    "# === DOWNLOAD ZIP FILE FROM HUGGING FACE DATASET REPO ===\n",
    "repo_id = \"IraBid-Medical-AI/Appendicitis_vs_normal_classification\"\n",
    "filename = \"Appendicitis_vs_normal.zip\"\n",
    "\n",
    "# Download the ZIP to local cache\n",
    "zip_path = hf_hub_download(\n",
    "    repo_id=repo_id,\n",
    "    repo_type=\"dataset\",\n",
    "    filename=filename,\n",
    "    revision=\"main\"\n",
    ")\n"
   ]
  },
  {
   "cell_type": "code",
   "execution_count": null,
   "metadata": {},
   "outputs": [],
   "source": [
    "# === UNZIP TO TARGET FOLDER ===\n",
    "extract_dir = \"Appendicitis_vs_normal\"\n",
    "os.makedirs(extract_dir, exist_ok=True)\n",
    "\n",
    "with zipfile.ZipFile(zip_path, 'r') as zip_ref:\n",
    "    zip_ref.extractall(extract_dir)\n",
    "\n",
    "print(f\"✅ Done: Extracted to {extract_dir}\")"
   ]
  },
  {
   "cell_type": "code",
   "execution_count": 7,
   "metadata": {
    "id": "IPZPx2cxCzxx",
    "outputId": "bd079de6-085b-43ef-85e3-e87cc2255288"
   },
   "outputs": [
    {
     "name": "stdout",
     "output_type": "stream",
     "text": [
      "✅ Done: Extracted to Appendicitis_vs_normal\n"
     ]
    },
    {
     "data": {
      "application/vnd.jupyter.widget-view+json": {
       "model_id": "16aeb0d4e2434d848f074c6eb5a805a1",
       "version_major": 2,
       "version_minor": 0
      },
      "text/plain": [
       "Resolving data files:   0%|          | 0/30450 [00:00<?, ?it/s]"
      ]
     },
     "metadata": {},
     "output_type": "display_data"
    },
    {
     "data": {
      "application/vnd.jupyter.widget-view+json": {
       "model_id": "4f7345d5ce964ed39d5dfeff15ff4bac",
       "version_major": 2,
       "version_minor": 0
      },
      "text/plain": [
       "Downloading data:   0%|          | 0/30450 [00:00<?, ?files/s]"
      ]
     },
     "metadata": {},
     "output_type": "display_data"
    },
    {
     "data": {
      "application/vnd.jupyter.widget-view+json": {
       "model_id": "79b354fe473a4efaa3b3c4ee31d5bd0b",
       "version_major": 2,
       "version_minor": 0
      },
      "text/plain": [
       "Computing checksums:  47%|####7     | 14429/30450 [00:07<00:07, 2031.16it/s]"
      ]
     },
     "metadata": {},
     "output_type": "display_data"
    },
    {
     "data": {
      "application/vnd.jupyter.widget-view+json": {
       "model_id": "ef88654a9f3f49e492c4701c716fc387",
       "version_major": 2,
       "version_minor": 0
      },
      "text/plain": [
       "Generating train split: 0 examples [00:00, ? examples/s]"
      ]
     },
     "metadata": {},
     "output_type": "display_data"
    },
    {
     "data": {
      "application/vnd.jupyter.widget-view+json": {
       "model_id": "c98316d5ee5b4fb2a994706286c73c5f",
       "version_major": 2,
       "version_minor": 0
      },
      "text/plain": [
       "Resolving data files:   0%|          | 0/7630 [00:00<?, ?it/s]"
      ]
     },
     "metadata": {},
     "output_type": "display_data"
    },
    {
     "data": {
      "application/vnd.jupyter.widget-view+json": {
       "model_id": "3f2553c374bd4ab3988499ce7b64543a",
       "version_major": 2,
       "version_minor": 0
      },
      "text/plain": [
       "Downloading data:   0%|          | 0/7630 [00:00<?, ?files/s]"
      ]
     },
     "metadata": {},
     "output_type": "display_data"
    },
    {
     "data": {
      "application/vnd.jupyter.widget-view+json": {
       "model_id": "343d6d0e02394ff6ba1670e2e72a7caf",
       "version_major": 2,
       "version_minor": 0
      },
      "text/plain": [
       "Computing checksums:  82%|########1 | 6253/7630 [00:05<00:01, 1250.53it/s]"
      ]
     },
     "metadata": {},
     "output_type": "display_data"
    },
    {
     "data": {
      "application/vnd.jupyter.widget-view+json": {
       "model_id": "92b89febc05e4438a9e2a91f61104ca0",
       "version_major": 2,
       "version_minor": 0
      },
      "text/plain": [
       "Generating train split: 0 examples [00:00, ? examples/s]"
      ]
     },
     "metadata": {},
     "output_type": "display_data"
    },
    {
     "data": {
      "application/vnd.jupyter.widget-view+json": {
       "model_id": "6496a8bbd5e34610bc04dca8c2b8f85b",
       "version_major": 2,
       "version_minor": 0
      },
      "text/plain": [
       "Resolving data files:   0%|          | 0/9590 [00:00<?, ?it/s]"
      ]
     },
     "metadata": {},
     "output_type": "display_data"
    },
    {
     "data": {
      "application/vnd.jupyter.widget-view+json": {
       "model_id": "0d9f0e39665440398180047ffa2a1db9",
       "version_major": 2,
       "version_minor": 0
      },
      "text/plain": [
       "Downloading data:   0%|          | 0/9590 [00:00<?, ?files/s]"
      ]
     },
     "metadata": {},
     "output_type": "display_data"
    },
    {
     "data": {
      "application/vnd.jupyter.widget-view+json": {
       "model_id": "d06ff5c738c146e2afd7826b8c9e126c",
       "version_major": 2,
       "version_minor": 0
      },
      "text/plain": [
       "Computing checksums:  60%|#####9    | 5730/9590 [00:05<00:03, 1145.22it/s]"
      ]
     },
     "metadata": {},
     "output_type": "display_data"
    },
    {
     "data": {
      "application/vnd.jupyter.widget-view+json": {
       "model_id": "dfeb8c211d2e4bb7ad22ccbe039fa4c3",
       "version_major": 2,
       "version_minor": 0
      },
      "text/plain": [
       "Generating train split: 0 examples [00:00, ? examples/s]"
      ]
     },
     "metadata": {},
     "output_type": "display_data"
    },
    {
     "name": "stdout",
     "output_type": "stream",
     "text": [
      "DatasetDict({\n",
      "    train: Dataset({\n",
      "        features: ['image', 'label'],\n",
      "        num_rows: 30450\n",
      "    })\n",
      "    validation: Dataset({\n",
      "        features: ['image', 'label'],\n",
      "        num_rows: 7630\n",
      "    })\n",
      "    test: Dataset({\n",
      "        features: ['image', 'label'],\n",
      "        num_rows: 9590\n",
      "    })\n",
      "})\n",
      "0\n"
     ]
    }
   ],
   "source": [
    "# 2. Load dataset\n",
    "from datasets import load_dataset, DatasetDict\n",
    "\n",
    "# Path to the extracted dataset folder\n",
    "data_dir = r\"./Appendicitis_vs_normal/Appendicitis_vs_normal\"  # UPDATE this path\n",
    "\n",
    "# Define paths for each split\n",
    "train_dir = f\"{data_dir}/Training_data_png\"\n",
    "val_dir   = f\"{data_dir}/Validation_data_png\"\n",
    "test_dir  = f\"{data_dir}/Test_data_png\"\n",
    "\n",
    "# Load splits using 'imagefolder' format\n",
    "train_ds = load_dataset(\"imagefolder\", data_dir=train_dir, split=\"train\")\n",
    "val_ds   = load_dataset(\"imagefolder\", data_dir=val_dir, split=\"train\")\n",
    "test_ds  = load_dataset(\"imagefolder\", data_dir=test_dir, split=\"train\")\n",
    "\n",
    "# Combine into a DatasetDict\n",
    "data = DatasetDict({\n",
    "    \"train\": train_ds,\n",
    "    \"validation\": val_ds,\n",
    "    \"test\": test_ds,\n",
    "})\n",
    "\n",
    "print(data)\n",
    "\n",
    "# 3. Peek at a sample\n",
    "data[\"train\"][0][\"image\"]\n",
    "# Display the corresponding label\n",
    "print(data[\"train\"][0][\"label\"])\n"
   ]
  },
  {
   "cell_type": "markdown",
   "metadata": {
    "id": "V03H6cfnofY_"
   },
   "source": [
    "Inspect a sample data point, which contains:\n",
    "\n",
    "* `image`: image patch as a `PIL` image object\n",
    "* `label`: integer class label corresponding to tissue type"
   ]
  },
  {
   "cell_type": "code",
   "execution_count": 8,
   "metadata": {},
   "outputs": [
    {
     "data": {
      "application/vnd.jupyter.widget-view+json": {
       "model_id": "6a84a30a964a40f786add428eccffd82",
       "version_major": 2,
       "version_minor": 0
      },
      "text/plain": [
       "Map:   0%|          | 0/30450 [00:00<?, ? examples/s]"
      ]
     },
     "metadata": {},
     "output_type": "display_data"
    },
    {
     "data": {
      "application/vnd.jupyter.widget-view+json": {
       "model_id": "09fab52d634c4b7797700a116219499b",
       "version_major": 2,
       "version_minor": 0
      },
      "text/plain": [
       "Map:   0%|          | 0/7630 [00:00<?, ? examples/s]"
      ]
     },
     "metadata": {},
     "output_type": "display_data"
    },
    {
     "data": {
      "application/vnd.jupyter.widget-view+json": {
       "model_id": "7d2e8414b1b448cc81e4126fc8f6ef52",
       "version_major": 2,
       "version_minor": 0
      },
      "text/plain": [
       "Map:   0%|          | 0/9590 [00:00<?, ? examples/s]"
      ]
     },
     "metadata": {},
     "output_type": "display_data"
    }
   ],
   "source": [
    "# adding 'path' column to each dataset\n",
    "\n",
    "def add_path(example, root_dir):\n",
    "    # The 'image' field is a PIL Image, but the dataset from 'imagefolder' also\n",
    "    # includes the 'image' feature with 'path' attribute for each image.\n",
    "    # However, if not present, reconstruct the path from root_dir and label info.\n",
    "    \n",
    "    # Huggingface's imagefolder loader often provides 'path' in 'image' feature metadata,\n",
    "    # So we can try to get it directly:\n",
    "    try:\n",
    "        image_path = example[\"image\"].filename\n",
    "    except AttributeError:\n",
    "        # fallback: try reconstructing (if you know directory structure and filenames)\n",
    "        image_path = None\n",
    "\n",
    "    # If for some reason filename is missing, you can create path from label + file name if available,\n",
    "    # but usually filename should be in the 'image' object.\n",
    "    \n",
    "    return {\"path\": image_path}\n",
    "\n",
    "# Add path column using map for all datasets:\n",
    "train_ds = train_ds.map(lambda x: add_path(x, train_dir))\n",
    "val_ds = val_ds.map(lambda x: add_path(x, val_dir))\n",
    "test_ds = test_ds.map(lambda x: add_path(x, test_dir))\n",
    "\n",
    "# Update the dataset dict\n",
    "data = DatasetDict({\n",
    "    \"train\": train_ds,\n",
    "    \"validation\": val_ds,\n",
    "    \"test\": test_ds,\n",
    "})\n"
   ]
  },
  {
   "cell_type": "code",
   "execution_count": 9,
   "metadata": {},
   "outputs": [
    {
     "name": "stdout",
     "output_type": "stream",
     "text": [
      "{'image': Image(mode=None, decode=True), 'label': ClassLabel(names=['negative', 'positive']), 'path': Value('string')}\n"
     ]
    }
   ],
   "source": [
    "print(data[\"train\"].features)\n"
   ]
  },
  {
   "cell_type": "code",
   "execution_count": 10,
   "metadata": {
    "id": "c6EduPmWC4fO",
    "outputId": "1a81aa27-b3df-46cd-b23d-b62a152df041"
   },
   "outputs": [
    {
     "data": {
      "text/plain": [
       "'/workspace/MedGemma/notebooks/Appendicitis_vs_normal/Appendicitis_vs_normal/Training_data_png/negative/0006_0006_slice_007.png'"
      ]
     },
     "execution_count": 10,
     "metadata": {},
     "output_type": "execute_result"
    }
   ],
   "source": [
    "data[\"train\"][287][\"path\"]"
   ]
  },
  {
   "cell_type": "code",
   "execution_count": 11,
   "metadata": {},
   "outputs": [
    {
     "data": {
      "image/jpeg": "[encoded data removed]",
      "image/png": "[encoded data removed]",
      "text/plain": [
       "<PIL.PngImagePlugin.PngImageFile image mode=L size=160x160>"
      ]
     },
     "execution_count": 11,
     "metadata": {},
     "output_type": "execute_result"
    }
   ],
   "source": [
    "data[\"train\"][287][\"image\"]"
   ]
  },
  {
   "cell_type": "code",
   "execution_count": 12,
   "metadata": {
    "id": "tKufzKE_C7Vt",
    "outputId": "877f2305-48d2-4a18-c693-22db671acf6b"
   },
   "outputs": [
    {
     "data": {
      "text/plain": [
       "0"
      ]
     },
     "execution_count": 12,
     "metadata": {},
     "output_type": "execute_result"
    }
   ],
   "source": [
    "data[\"train\"][287][\"label\"]"
   ]
  },
  {
   "cell_type": "markdown",
   "metadata": {
    "id": "CHOtCBFfSWyS"
   },
   "source": [
    "## Fine-tune the model\n",
    "\n",
    "Contrastive image-text learning is a method that trains models to learn the relationship between images and text, such that the representations of matching image-text pairs are brought closer together in a shared embedding space while non-matching pairs are pushed further apart.\n",
    "\n",
    "This notebook demonstrates contrastive fine-tuning of MedSigLIP, where the vision and text encoders are jointly trained on image and text data, using the `Trainer` from the Hugging Face `Transformers` library."
   ]
  },
  {
   "cell_type": "markdown",
   "metadata": {
    "id": "rrDwrz6iD3Yl"
   },
   "source": [
    "Define a data collator to prepare batches of training examples."
   ]
  },
  {
   "cell_type": "code",
   "execution_count": 13,
   "metadata": {},
   "outputs": [],
   "source": [
    "def collate_fn(examples):\n",
    "    images = [example[\"image\"] for example in examples]\n",
    "    labels = [example[\"label\"] for example in examples]\n",
    "    paths = [example[\"path\"] for example in examples]  # add paths here\n",
    "    \n",
    "     # Process images\n",
    "    batch = processor(images=images, return_tensors=\"pt\")\n",
    "    \n",
    "    # add labels and paths to the batch\n",
    "    batch[\"labels\"] = torch.tensor(labels, dtype=torch.float).view(-1, 1)\n",
    "    batch[\"path\"] = paths  # return paths as is (list of strings)\n",
    "    \n",
    "    return batch\n"
   ]
  },
  {
   "cell_type": "code",
   "execution_count": 14,
   "metadata": {
    "id": "QRPETOTGV81b"
   },
   "outputs": [],
   "source": [
    "#import torch\n",
    "\n",
    "\n",
    "#def collate_fn(examples):\n",
    "    # Extract images and labels\n",
    "#    images = [example[\"image\"] for example in examples]\n",
    "#    labels = [example[\"label\"] for example in examples]\n",
    "    \n",
    "    # Process images\n",
    "#    batch = processor(images=images, return_tensors=\"pt\")\n",
    "    \n",
    "    # Add labels\n",
    "#    batch[\"labels\"] = torch.tensor(labels, dtype=torch.float).view(-1, 1)\n",
    "    \n",
    "#    return batch"
   ]
  },
  {
   "cell_type": "markdown",
   "metadata": {
    "id": "Fsaon7JoBq5H"
   },
   "source": [
    "Configure training parameters in [`TrainingArguments`](https://huggingface.co/docs/transformers/main_classes/trainer#transformers.TrainingArguments)."
   ]
  },
  {
   "cell_type": "code",
   "execution_count": 15,
   "metadata": {
    "id": "E6W_gQmfRXWx"
   },
   "outputs": [],
   "source": [
    "from transformers import TrainingArguments\n",
    "\n",
    "num_train_epochs = 3  # @param {type: \"number\"}\n",
    "learning_rate = 1e-5  # @param {type: \"number\"}\n",
    "\n",
    "training_args = TrainingArguments(\n",
    "    output_dir=\"medsiglip-appendicitis-binary\",  # Directory and Hub repository id to save the model to\n",
    "    num_train_epochs=num_train_epochs,      # Number of training epochs\n",
    "    per_device_train_batch_size=8,          # Batch size per device during training\n",
    "    per_device_eval_batch_size=8,           # Batch size per device during evaluation\n",
    "    gradient_accumulation_steps=4,          # Number of steps before performing a backward/update pass\n",
    "    logging_steps=50,                       # Number of steps between logs\n",
    "    save_strategy=\"epoch\",                  # Save checkpoint every epoch\n",
    "    eval_strategy=\"steps\",                  # Evaluate every `eval_steps`\n",
    "    eval_steps=100,                          # Number of steps between evaluations\n",
    "    learning_rate=learning_rate,            # Learning rate\n",
    "    weight_decay=0.01,\n",
    "    warmup_ratio=0.1,  # Better than warmup_steps=1                 \n",
    "    lr_scheduler_type=\"cosine\", \n",
    "    remove_unused_columns=False,            # Use cosine learning rate scheduler\n",
    "    push_to_hub=True,                       # Push model to Hub\n",
    "    report_to=\"tensorboard\",                # Report metrics to tensorboard\n",
    ")"
   ]
  },
  {
   "cell_type": "code",
   "execution_count": 16,
   "metadata": {},
   "outputs": [
    {
     "data": {
      "application/vnd.jupyter.widget-view+json": {
       "model_id": "8560a894914e42d1adb5102abd2f9a20",
       "version_major": 2,
       "version_minor": 0
      },
      "text/plain": [
       "Downloading builder script: 0.00B [00:00, ?B/s]"
      ]
     },
     "metadata": {},
     "output_type": "display_data"
    },
    {
     "data": {
      "application/vnd.jupyter.widget-view+json": {
       "model_id": "71a3e8f32e694c368804f42c0a1e9496",
       "version_major": 2,
       "version_minor": 0
      },
      "text/plain": [
       "Downloading builder script: 0.00B [00:00, ?B/s]"
      ]
     },
     "metadata": {},
     "output_type": "display_data"
    },
    {
     "data": {
      "application/vnd.jupyter.widget-view+json": {
       "model_id": "e4dc53ca9758424da9bf197403168ccb",
       "version_major": 2,
       "version_minor": 0
      },
      "text/plain": [
       "Downloading builder script: 0.00B [00:00, ?B/s]"
      ]
     },
     "metadata": {},
     "output_type": "display_data"
    }
   ],
   "source": [
    "import evaluate\n",
    "import numpy as np\n",
    "import pandas as pd\n",
    "\n",
    "# Load the metrics\n",
    "accuracy_metric = evaluate.load(\"accuracy\")\n",
    "f1_metric = evaluate.load(\"f1\")\n",
    "roc_auc_metric = evaluate.load(\"roc_auc\")\n",
    "\n",
    "def compute_metrics(eval_pred):\n",
    "    \"\"\"\n",
    "    Compute metrics for binary classification (normal vs. positive).\n",
    "    \"\"\"\n",
    "    predictions, labels = eval_pred  # predictions: [batch_size, 1], labels: [batch_size]\n",
    "    \n",
    "    # Convert logits to probabilities and predictions\n",
    "    probabilities = 1 / (1 + np.exp(-predictions))  # Sigmoid: [batch_size, 1]\n",
    "    pred_classes = (probabilities > 0.5).astype(np.int32).flatten()  # Threshold at 0.5: [batch_size]\n",
    "    \n",
    "    # Ensure labels are integers\n",
    "    labels = labels.astype(np.int32)\n",
    "    \n",
    "    # Compute metrics\n",
    "    metrics = {}\n",
    "    metrics.update(accuracy_metric.compute(\n",
    "        predictions=pred_classes,\n",
    "        references=labels,\n",
    "    ))\n",
    "    metrics.update(f1_metric.compute(\n",
    "        predictions=pred_classes,\n",
    "        references=labels,\n",
    "        average =\"macro\"\n",
    "    ))\n",
    "    # Compute ROC-AUC using positive class probabilities\n",
    "    try:\n",
    "        auc = roc_auc_metric.compute(\n",
    "            prediction_scores=probabilities.flatten(),  # Positive class probabilities\n",
    "            references=labels,\n",
    "            average=\"macro\"  # Binary classification uses macro for consistency\n",
    "        )\n",
    "        metrics.update({\"auc\": auc[\"roc_auc\"]})\n",
    "    except Exception as e:\n",
    "        metrics.update({\"auc\": None, \"auc_error\": str(e)})\n",
    "    \n",
    "    return metrics"
   ]
  },
  {
   "cell_type": "markdown",
   "metadata": {
    "id": "Z1rMdSj1Tj1K"
   },
   "source": [
    "Construct a [`Trainer`](https://huggingface.co/docs/transformers/trainer) using the previously defined training parameters and data collator."
   ]
  },
  {
   "cell_type": "code",
   "execution_count": 17,
   "metadata": {
    "id": "dWcynpm0MHDc"
   },
   "outputs": [],
   "source": [
    "from transformers import Trainer\n",
    "\n",
    "trainer = Trainer(\n",
    "    model=model,\n",
    "    args=training_args,\n",
    "    train_dataset=data[\"train\"],\n",
    "    eval_dataset=data[\"validation\"].shuffle().select(range(100)),  # Use subset of validation set for faster run\n",
    "    data_collator=collate_fn,\n",
    "    compute_metrics=compute_metrics,\n",
    ")"
   ]
  },
  {
   "cell_type": "markdown",
   "metadata": {
    "id": "RoHlpSKKVbDb"
   },
   "source": [
    "Launch the fine-tuning process."
   ]
  },
  {
   "cell_type": "code",
   "execution_count": 15,
   "metadata": {
    "id": "VZcOXgddDSRd",
    "outputId": "c31b7685-4f44-4be7-af97-d41778f43736"
   },
   "outputs": [
    {
     "data": {
      "text/html": [
       "\n",
       "    <div>\n",
       "      \n",
       "      <progress value='28' max='28' style='width:300px; height:20px; vertical-align: middle;'></progress>\n",
       "      [28/28 04:08, Epoch 2/2]\n",
       "    </div>\n",
       "    <table border=\"1\" class=\"dataframe\">\n",
       "  <thead>\n",
       " <tr style=\"text-align: left;\">\n",
       "      <th>Step</th>\n",
       "      <th>Training Loss</th>\n",
       "      <th>Validation Loss</th>\n",
       "      <th>Accuracy</th>\n",
       "      <th>F1</th>\n",
       "      <th>Auc</th>\n",
       "    </tr>\n",
       "  </thead>\n",
       "  <tbody>\n",
       "    <tr>\n",
       "      <td>6</td>\n",
       "      <td>No log</td>\n",
       "      <td>0.649401</td>\n",
       "      <td>0.660000</td>\n",
       "      <td>0.397590</td>\n",
       "      <td>0.504456</td>\n",
       "    </tr>\n",
       "    <tr>\n",
       "      <td>12</td>\n",
       "      <td>2.580500</td>\n",
       "      <td>0.649753</td>\n",
       "      <td>0.660000</td>\n",
       "      <td>0.397590</td>\n",
       "      <td>0.529412</td>\n",
       "    </tr>\n",
       "    <tr>\n",
       "      <td>18</td>\n",
       "      <td>2.580500</td>\n",
       "      <td>0.636040</td>\n",
       "      <td>0.660000</td>\n",
       "      <td>0.397590</td>\n",
       "      <td>0.561497</td>\n",
       "    </tr>\n",
       "    <tr>\n",
       "      <td>24</td>\n",
       "      <td>2.553700</td>\n",
       "      <td>0.637064</td>\n",
       "      <td>0.660000</td>\n",
       "      <td>0.397590</td>\n",
       "      <td>0.566845</td>\n",
       "    </tr>\n",
       "  </tbody>\n",
       "</table><p>"
      ],
      "text/plain": [
       "<IPython.core.display.HTML object>"
      ]
     },
     "metadata": {},
     "output_type": "display_data"
    },
    {
     "data": {
      "text/plain": [
       "TrainOutput(global_step=28, training_loss=2.50087308883667, metrics={'train_runtime': 256.0739, 'train_samples_per_second': 3.397, 'train_steps_per_second': 0.109, 'total_flos': 0.0, 'train_loss': 2.50087308883667, 'epoch': 2.0})"
      ]
     },
     "execution_count": 15,
     "metadata": {},
     "output_type": "execute_result"
    }
   ],
   "source": [
    "trainer.train()"
   ]
  },
  {
   "cell_type": "markdown",
   "metadata": {
    "id": "wf9QkPFAfegp"
   },
   "source": [
    "## Evaluate the fine-tuned model on a classification task"
   ]
  },
  {
   "cell_type": "code",
   "execution_count": 18,
   "metadata": {},
   "outputs": [
    {
     "name": "stdout",
     "output_type": "stream",
     "text": [
      "Train dataset size: 435\n",
      "Evaluating model on train dataset...\n"
     ]
    },
    {
     "name": "stderr",
     "output_type": "stream",
     "text": [
      "Testing: 100%|██████████| 14/14 [00:32<00:00,  2.29s/it]"
     ]
    },
    {
     "name": "stdout",
     "output_type": "stream",
     "text": [
      "==================================================\n",
      "EVALUATION RESULTS\n",
      "==================================================\n",
      "Overall Accuracy: 0.7333\n",
      "Weighted F1-Score: 0.7003\n",
      "Macro F1-Score: 0.6428\n",
      "\n",
      "Per-Class Metrics:\n",
      "----------------------------------------------------------------------\n",
      "Class           Precision    Recall       F1-Score     Support   \n",
      "----------------------------------------------------------------------\n",
      "normal          0.7330       0.9373       0.8226       287       \n",
      "appendicitis    0.7353       0.3378       0.4630       148       \n",
      "----------------------------------------------------------------------\n",
      "Weighted Avg    0.7338       0.7333       0.7003       435       \n",
      "Macro Avg       0.7341       0.6376       0.6428       435       \n",
      "\n",
      "Detailed Classification Report:\n",
      "==================================================\n",
      "              precision    recall  f1-score   support\n",
      "\n",
      "      normal     0.7330    0.9373    0.8226       287\n",
      "appendicitis     0.7353    0.3378    0.4630       148\n",
      "\n",
      "    accuracy                         0.7333       435\n",
      "   macro avg     0.7341    0.6376    0.6428       435\n",
      "weighted avg     0.7338    0.7333    0.7003       435\n",
      "\n",
      "✅ Results saved to train_predictions.xlsx\n"
     ]
    },
    {
     "name": "stderr",
     "output_type": "stream",
     "text": [
      "\n"
     ]
    }
   ],
   "source": [
    "import torch\n",
    "import numpy as np\n",
    "from torch.utils.data import DataLoader\n",
    "from sklearn.metrics import (\n",
    "    accuracy_score, \n",
    "    precision_recall_fscore_support, \n",
    "    classification_report, \n",
    "    confusion_matrix\n",
    ")\n",
    "from tqdm import tqdm\n",
    "\n",
    "def evaluate_model(model, train_dataset, processor, batch_size=32, device='cuda'):\n",
    "    \"\"\"\n",
    "    Comprehensive evaluation of the fine-tuned model on train data\n",
    "    \"\"\"\n",
    "    model.eval()\n",
    "    train_loader = DataLoader(\n",
    "        train_dataset, \n",
    "        batch_size=batch_size, \n",
    "        shuffle=False, \n",
    "        collate_fn=collate_fn\n",
    "    )\n",
    "    all_predictions = []\n",
    "    all_labels = []\n",
    "    all_logits = []\n",
    "    all_paths = []\n",
    "    print(\"Evaluating model on train dataset...\")\n",
    "    with torch.no_grad():\n",
    "        for batch_idx, batch in enumerate(tqdm(train_loader, desc=\"Testing\")):\n",
    "            if 'pixel_values' not in batch or 'labels' not in batch:\n",
    "                raise ValueError(\"Batch missing required keys: 'pixel_values' or 'labels'.\")\n",
    "            pixel_values = batch['pixel_values'].to(device)\n",
    "            labels = batch['labels'].to(device)\n",
    "            paths = batch['path']\n",
    "            outputs = model(pixel_values=pixel_values)\n",
    "            logits = outputs['logits']\n",
    "            probabilities = torch.sigmoid(logits)\n",
    "            predictions = (probabilities > 0.4).long().view(-1)\n",
    "            all_predictions.extend(predictions.cpu().numpy())\n",
    "            all_labels.extend(labels.cpu().numpy())\n",
    "            all_logits.extend(probabilities.cpu().numpy().flatten())  # Save probabilities\n",
    "            all_paths.extend(paths)\n",
    "    return np.array(all_predictions), np.array(all_labels), np.array(all_logits), all_paths\n",
    "\n",
    "\n",
    "def compute_detailed_metrics(predictions, labels, class_names):\n",
    "    \"\"\"\n",
    "    Compute detailed evaluation metrics\n",
    "    \"\"\"\n",
    "    \n",
    "    # Basic metrics\n",
    "    accuracy = accuracy_score(labels, predictions)\n",
    "    precision, recall, f1, support = precision_recall_fscore_support(\n",
    "        labels, predictions, average=None\n",
    "    )\n",
    "    \n",
    "    # Weighted averages\n",
    "    precision_weighted, recall_weighted, f1_weighted, _ = precision_recall_fscore_support(\n",
    "        labels, predictions, average='weighted'\n",
    "    )\n",
    "    \n",
    "    # Macro averages\n",
    "    precision_macro, recall_macro, f1_macro, _ = precision_recall_fscore_support(\n",
    "        labels, predictions, average='macro'\n",
    "    )\n",
    "    \n",
    "    print(\"=\"*50)\n",
    "    print(\"EVALUATION RESULTS\")\n",
    "    print(\"=\"*50)\n",
    "    print(f\"Overall Accuracy: {accuracy:.4f}\")\n",
    "    print(f\"Weighted F1-Score: {f1_weighted:.4f}\")\n",
    "    print(f\"Macro F1-Score: {f1_macro:.4f}\")\n",
    "    print()\n",
    "    \n",
    "    # Per-class metrics\n",
    "    print(\"Per-Class Metrics:\")\n",
    "    print(\"-\" * 70)\n",
    "    print(f\"{'Class':<15} {'Precision':<12} {'Recall':<12} {'F1-Score':<12} {'Support':<10}\")\n",
    "    print(\"-\" * 70)\n",
    "    \n",
    "    for i, class_name in enumerate(class_names):\n",
    "        print(f\"{class_name:<15} {precision[i]:<12.4f} {recall[i]:<12.4f} {f1[i]:<12.4f} {support[i]:<10}\")\n",
    "    \n",
    "    print(\"-\" * 70)\n",
    "    print(f\"{'Weighted Avg':<15} {precision_weighted:<12.4f} {recall_weighted:<12.4f} {f1_weighted:<12.4f} {sum(support):<10}\")\n",
    "    print(f\"{'Macro Avg':<15} {precision_macro:<12.4f} {recall_macro:<12.4f} {f1_macro:<12.4f} {sum(support):<10}\")\n",
    "    \n",
    "    return {\n",
    "        'accuracy': accuracy,\n",
    "        'precision_weighted': precision_weighted,\n",
    "        'recall_weighted': recall_weighted,\n",
    "        'f1_weighted': f1_weighted,\n",
    "        'precision_macro': precision_macro,\n",
    "        'recall_macro': recall_macro,\n",
    "        'f1_macro': f1_macro,\n",
    "        'per_class_precision': precision,\n",
    "        'per_class_recall': recall,\n",
    "        'per_class_f1': f1,\n",
    "        'support': support\n",
    "    }\n",
    "\n",
    "\n",
    "def run_evaluation():\n",
    "    ABDOMINAL_PAIN_CLASSES = ['normal', 'appendicitis']\n",
    "    train_data = data[\"train\"]\n",
    "    print(f\"Train dataset size: {len(train_data)}\")\n",
    "    device = torch.device('cuda' if torch.cuda.is_available() else 'cpu')\n",
    "    model.to(device)\n",
    "    predictions, labels, probabilities, paths = evaluate_model(\n",
    "        model, \n",
    "        train_data, \n",
    "        processor, \n",
    "        batch_size=32, \n",
    "        device=device\n",
    "    )\n",
    "    metrics = compute_detailed_metrics(predictions, labels, ABDOMINAL_PAIN_CLASSES)\n",
    "    print(\"\\nDetailed Classification Report:\")\n",
    "    print(\"=\"*50)\n",
    "    print(classification_report(\n",
    "        labels, \n",
    "        predictions, \n",
    "        target_names=ABDOMINAL_PAIN_CLASSES,\n",
    "        digits=4\n",
    "    ))\n",
    "    # Save results to Excel\n",
    "    df_results = pd.DataFrame({\n",
    "        \"image_path\": paths,\n",
    "        \"probability\": probabilities,\n",
    "        \"actual_label\": labels.flatten(),\n",
    "        \"prediction\": predictions.flatten()\n",
    "    })\n",
    "    df_results.to_excel(\"train_predictions.xlsx\", index=False)\n",
    "    print(\"✅ Results saved to train_predictions.xlsx\")\n",
    "    return metrics, predictions, labels, probabilities, paths\n",
    "\n",
    "# Run the evaluation\n",
    "evaluation_results = run_evaluation()"
   ]
  },
  {
   "cell_type": "code",
   "execution_count": null,
   "metadata": {},
   "outputs": [],
   "source": [
    "import torch\n",
    "import numpy as np\n",
    "from torch.utils.data import DataLoader\n",
    "from sklearn.metrics import (\n",
    "    accuracy_score, \n",
    "    precision_recall_fscore_support, \n",
    "    classification_report, \n",
    "    confusion_matrix\n",
    ")\n",
    "from tqdm import tqdm\n",
    "\n",
    "def evaluate_model(model, valid_dataset, processor, batch_size=32, device='cuda'):\n",
    "    \"\"\"\n",
    "    Comprehensive evaluation of the fine-tuned model on valid data\n",
    "    \"\"\"\n",
    "    model.eval()\n",
    "    valid_loader = DataLoader(\n",
    "        valid_dataset, \n",
    "        batch_size=batch_size, \n",
    "        shuffle=False, \n",
    "        collate_fn=collate_fn\n",
    "    )\n",
    "    all_predictions = []\n",
    "    all_labels = []\n",
    "    all_logits = []\n",
    "    all_paths = []\n",
    "    print(\"Evaluating model on valid dataset...\")\n",
    "    with torch.no_grad():\n",
    "        for batch_idx, batch in enumerate(tqdm(valid_loader, desc=\"Testing\")):\n",
    "            if 'pixel_values' not in batch or 'labels' not in batch:\n",
    "                raise ValueError(\"Batch missing required keys: 'pixel_values' or 'labels'.\")\n",
    "            pixel_values = batch['pixel_values'].to(device)\n",
    "            labels = batch['labels'].to(device)\n",
    "            paths = batch['path']\n",
    "            outputs = model(pixel_values=pixel_values)\n",
    "            logits = outputs['logits']\n",
    "            probabilities = torch.sigmoid(logits)\n",
    "            predictions = (probabilities > 0.4).long().view(-1)\n",
    "            all_predictions.extend(predictions.cpu().numpy())\n",
    "            all_labels.extend(labels.cpu().numpy())\n",
    "            all_logits.extend(probabilities.cpu().numpy().flatten())  # Save probabilities\n",
    "            all_paths.extend(paths)\n",
    "    return np.array(all_predictions), np.array(all_labels), np.array(all_logits), all_paths\n",
    "\n",
    "\n",
    "def compute_detailed_metrics(predictions, labels, class_names):\n",
    "    \"\"\"\n",
    "    Compute detailed evaluation metrics\n",
    "    \"\"\"\n",
    "    \n",
    "    # Basic metrics\n",
    "    accuracy = accuracy_score(labels, predictions)\n",
    "    precision, recall, f1, support = precision_recall_fscore_support(\n",
    "        labels, predictions, average=None\n",
    "    )\n",
    "    \n",
    "    # Weighted averages\n",
    "    precision_weighted, recall_weighted, f1_weighted, _ = precision_recall_fscore_support(\n",
    "        labels, predictions, average='weighted'\n",
    "    )\n",
    "    \n",
    "    # Macro averages\n",
    "    precision_macro, recall_macro, f1_macro, _ = precision_recall_fscore_support(\n",
    "        labels, predictions, average='macro'\n",
    "    )\n",
    "    \n",
    "    print(\"=\"*50)\n",
    "    print(\"EVALUATION RESULTS\")\n",
    "    print(\"=\"*50)\n",
    "    print(f\"Overall Accuracy: {accuracy:.4f}\")\n",
    "    print(f\"Weighted F1-Score: {f1_weighted:.4f}\")\n",
    "    print(f\"Macro F1-Score: {f1_macro:.4f}\")\n",
    "    print()\n",
    "    \n",
    "    # Per-class metrics\n",
    "    print(\"Per-Class Metrics:\")\n",
    "    print(\"-\" * 70)\n",
    "    print(f\"{'Class':<15} {'Precision':<12} {'Recall':<12} {'F1-Score':<12} {'Support':<10}\")\n",
    "    print(\"-\" * 70)\n",
    "    \n",
    "    for i, class_name in enumerate(class_names):\n",
    "        print(f\"{class_name:<15} {precision[i]:<12.4f} {recall[i]:<12.4f} {f1[i]:<12.4f} {support[i]:<10}\")\n",
    "    \n",
    "    print(\"-\" * 70)\n",
    "    print(f\"{'Weighted Avg':<15} {precision_weighted:<12.4f} {recall_weighted:<12.4f} {f1_weighted:<12.4f} {sum(support):<10}\")\n",
    "    print(f\"{'Macro Avg':<15} {precision_macro:<12.4f} {recall_macro:<12.4f} {f1_macro:<12.4f} {sum(support):<10}\")\n",
    "    \n",
    "    return {\n",
    "        'accuracy': accuracy,\n",
    "        'precision_weighted': precision_weighted,\n",
    "        'recall_weighted': recall_weighted,\n",
    "        'f1_weighted': f1_weighted,\n",
    "        'precision_macro': precision_macro,\n",
    "        'recall_macro': recall_macro,\n",
    "        'f1_macro': f1_macro,\n",
    "        'per_class_precision': precision,\n",
    "        'per_class_recall': recall,\n",
    "        'per_class_f1': f1,\n",
    "        'support': support\n",
    "    }\n",
    "\n",
    "\n",
    "def run_evaluation():\n",
    "    ABDOMINAL_PAIN_CLASSES = ['normal', 'appendicitis']\n",
    "    valid_data = data[\"valid\"]\n",
    "    print(f\"Validati dataset size: {len(valid_data)}\")\n",
    "    device = torch.device('cuda' if torch.cuda.is_available() else 'cpu')\n",
    "    model.to(device)\n",
    "    predictions, labels, probabilities, paths = evaluate_model(\n",
    "        model, \n",
    "        test_data, \n",
    "        processor, \n",
    "        batch_size=32, \n",
    "        device=device\n",
    "    )\n",
    "    metrics = compute_detailed_metrics(predictions, labels, ABDOMINAL_PAIN_CLASSES)\n",
    "    print(\"\\nDetailed Classification Report:\")\n",
    "    print(\"=\"*50)\n",
    "    print(classification_report(\n",
    "        labels, \n",
    "        predictions, \n",
    "        target_names=ABDOMINAL_PAIN_CLASSES,\n",
    "        digits=4\n",
    "    ))\n",
    "    # Save results to Excel\n",
    "    df_results = pd.DataFrame({\n",
    "        \"image_path\": paths,\n",
    "        \"probability\": probabilities,\n",
    "        \"actual_label\": labels.flatten(),\n",
    "        \"prediction\": predictions.flatten()\n",
    "    })\n",
    "    df_results.to_excel(\"test_predictions.xlsx\", index=False)\n",
    "    print(\"✅ Results saved to test_predictions.xlsx\")\n",
    "    return metrics, predictions, labels, probabilities, paths\n",
    "\n",
    "# Run the evaluation\n",
    "evaluation_results = run_evaluation()"
   ]
  },
  {
   "cell_type": "code",
   "execution_count": 17,
   "metadata": {},
   "outputs": [
    {
     "name": "stdout",
     "output_type": "stream",
     "text": [
      "Test dataset size: 137\n",
      "Evaluating model on test dataset...\n"
     ]
    },
    {
     "name": "stderr",
     "output_type": "stream",
     "text": [
      "Testing: 100%|██████████| 5/5 [00:10<00:00,  2.15s/it]"
     ]
    },
    {
     "name": "stdout",
     "output_type": "stream",
     "text": [
      "==================================================\n",
      "EVALUATION RESULTS\n",
      "==================================================\n",
      "Overall Accuracy: 0.6350\n",
      "Weighted F1-Score: 0.5716\n",
      "Macro F1-Score: 0.4903\n",
      "\n",
      "Per-Class Metrics:\n",
      "----------------------------------------------------------------------\n",
      "Class           Precision    Recall       F1-Score     Support   \n",
      "----------------------------------------------------------------------\n",
      "normal          0.6612       0.8989       0.7619       89        \n",
      "appendicitis    0.4375       0.1458       0.2188       48        \n",
      "----------------------------------------------------------------------\n",
      "Weighted Avg    0.5828       0.6350       0.5716       137       \n",
      "Macro Avg       0.5493       0.5224       0.4903       137       \n",
      "\n",
      "Detailed Classification Report:\n",
      "==================================================\n",
      "              precision    recall  f1-score   support\n",
      "\n",
      "      normal     0.6612    0.8989    0.7619        89\n",
      "appendicitis     0.4375    0.1458    0.2188        48\n",
      "\n",
      "    accuracy                         0.6350       137\n",
      "   macro avg     0.5493    0.5224    0.4903       137\n",
      "weighted avg     0.5828    0.6350    0.5716       137\n",
      "\n",
      "✅ Results saved to test_predictions.xlsx\n"
     ]
    },
    {
     "name": "stderr",
     "output_type": "stream",
     "text": [
      "\n"
     ]
    }
   ],
   "source": [
    "import torch\n",
    "import numpy as np\n",
    "from torch.utils.data import DataLoader\n",
    "from sklearn.metrics import (\n",
    "    accuracy_score, \n",
    "    precision_recall_fscore_support, \n",
    "    classification_report, \n",
    "    confusion_matrix\n",
    ")\n",
    "from tqdm import tqdm\n",
    "\n",
    "def evaluate_model(model, test_dataset, processor, batch_size=32, device='cuda'):\n",
    "    \"\"\"\n",
    "    Comprehensive evaluation of the fine-tuned model on test data\n",
    "    \"\"\"\n",
    "    model.eval()\n",
    "    test_loader = DataLoader(\n",
    "        test_dataset, \n",
    "        batch_size=batch_size, \n",
    "        shuffle=False, \n",
    "        collate_fn=collate_fn\n",
    "    )\n",
    "    all_predictions = []\n",
    "    all_labels = []\n",
    "    all_logits = []\n",
    "    all_paths = []\n",
    "    print(\"Evaluating model on test dataset...\")\n",
    "    with torch.no_grad():\n",
    "        for batch_idx, batch in enumerate(tqdm(test_loader, desc=\"Testing\")):\n",
    "            if 'pixel_values' not in batch or 'labels' not in batch:\n",
    "                raise ValueError(\"Batch missing required keys: 'pixel_values' or 'labels'.\")\n",
    "            pixel_values = batch['pixel_values'].to(device)\n",
    "            labels = batch['labels'].to(device)\n",
    "            paths = batch['path']\n",
    "            outputs = model(pixel_values=pixel_values)\n",
    "            logits = outputs['logits']\n",
    "            probabilities = torch.sigmoid(logits)\n",
    "            predictions = (probabilities > 0.4).long().view(-1)\n",
    "            all_predictions.extend(predictions.cpu().numpy())\n",
    "            all_labels.extend(labels.cpu().numpy())\n",
    "            all_logits.extend(probabilities.cpu().numpy().flatten())  # Save probabilities\n",
    "            all_paths.extend(paths)\n",
    "    return np.array(all_predictions), np.array(all_labels), np.array(all_logits), all_paths\n",
    "\n",
    "\n",
    "def compute_detailed_metrics(predictions, labels, class_names):\n",
    "    \"\"\"\n",
    "    Compute detailed evaluation metrics\n",
    "    \"\"\"\n",
    "    \n",
    "    # Basic metrics\n",
    "    accuracy = accuracy_score(labels, predictions)\n",
    "    precision, recall, f1, support = precision_recall_fscore_support(\n",
    "        labels, predictions, average=None\n",
    "    )\n",
    "    \n",
    "    # Weighted averages\n",
    "    precision_weighted, recall_weighted, f1_weighted, _ = precision_recall_fscore_support(\n",
    "        labels, predictions, average='weighted'\n",
    "    )\n",
    "    \n",
    "    # Macro averages\n",
    "    precision_macro, recall_macro, f1_macro, _ = precision_recall_fscore_support(\n",
    "        labels, predictions, average='macro'\n",
    "    )\n",
    "    \n",
    "    print(\"=\"*50)\n",
    "    print(\"EVALUATION RESULTS\")\n",
    "    print(\"=\"*50)\n",
    "    print(f\"Overall Accuracy: {accuracy:.4f}\")\n",
    "    print(f\"Weighted F1-Score: {f1_weighted:.4f}\")\n",
    "    print(f\"Macro F1-Score: {f1_macro:.4f}\")\n",
    "    print()\n",
    "    \n",
    "    # Per-class metrics\n",
    "    print(\"Per-Class Metrics:\")\n",
    "    print(\"-\" * 70)\n",
    "    print(f\"{'Class':<15} {'Precision':<12} {'Recall':<12} {'F1-Score':<12} {'Support':<10}\")\n",
    "    print(\"-\" * 70)\n",
    "    \n",
    "    for i, class_name in enumerate(class_names):\n",
    "        print(f\"{class_name:<15} {precision[i]:<12.4f} {recall[i]:<12.4f} {f1[i]:<12.4f} {support[i]:<10}\")\n",
    "    \n",
    "    print(\"-\" * 70)\n",
    "    print(f\"{'Weighted Avg':<15} {precision_weighted:<12.4f} {recall_weighted:<12.4f} {f1_weighted:<12.4f} {sum(support):<10}\")\n",
    "    print(f\"{'Macro Avg':<15} {precision_macro:<12.4f} {recall_macro:<12.4f} {f1_macro:<12.4f} {sum(support):<10}\")\n",
    "    \n",
    "    return {\n",
    "        'accuracy': accuracy,\n",
    "        'precision_weighted': precision_weighted,\n",
    "        'recall_weighted': recall_weighted,\n",
    "        'f1_weighted': f1_weighted,\n",
    "        'precision_macro': precision_macro,\n",
    "        'recall_macro': recall_macro,\n",
    "        'f1_macro': f1_macro,\n",
    "        'per_class_precision': precision,\n",
    "        'per_class_recall': recall,\n",
    "        'per_class_f1': f1,\n",
    "        'support': support\n",
    "    }\n",
    "\n",
    "\n",
    "def run_evaluation():\n",
    "    ABDOMINAL_PAIN_CLASSES = ['normal', 'appendicitis']\n",
    "    test_data = data[\"test\"]\n",
    "    print(f\"Test dataset size: {len(test_data)}\")\n",
    "    device = torch.device('cuda' if torch.cuda.is_available() else 'cpu')\n",
    "    model.to(device)\n",
    "    predictions, labels, probabilities, paths = evaluate_model(\n",
    "        model, \n",
    "        test_data, \n",
    "        processor, \n",
    "        batch_size=32, \n",
    "        device=device\n",
    "    )\n",
    "    metrics = compute_detailed_metrics(predictions, labels, ABDOMINAL_PAIN_CLASSES)\n",
    "    print(\"\\nDetailed Classification Report:\")\n",
    "    print(\"=\"*50)\n",
    "    print(classification_report(\n",
    "        labels, \n",
    "        predictions, \n",
    "        target_names=ABDOMINAL_PAIN_CLASSES,\n",
    "        digits=4\n",
    "    ))\n",
    "    # Save results to Excel\n",
    "    df_results = pd.DataFrame({\n",
    "        \"image_path\": paths,\n",
    "        \"probability\": probabilities,\n",
    "        \"actual_label\": labels.flatten(),\n",
    "        \"prediction\": predictions.flatten()\n",
    "    })\n",
    "    df_results.to_excel(\"test_predictions.xlsx\", index=False)\n",
    "    print(\"✅ Results saved to test_predictions.xlsx\")\n",
    "    return metrics, predictions, labels, probabilities, paths\n",
    "\n",
    "# Run the evaluation\n",
    "evaluation_results = run_evaluation()"
   ]
  },
  {
   "cell_type": "code",
   "execution_count": null,
   "metadata": {},
   "outputs": [],
   "source": []
  }
 ],
 "metadata": {
  "accelerator": "GPU",
  "colab": {
   "name": "fine_tune_with_hugging_face.ipynb",
   "provenance": [],
   "toc_visible": true
  },
  "kernelspec": {
   "display_name": "Python 3.11.3 (MedGemma)",
   "language": "python",
   "name": "medgamma"
  },
  "language_info": {
   "codemirror_mode": {
    "name": "ipython",
    "version": 3
   },
   "file_extension": ".py",
   "mimetype": "text/x-python",
   "name": "python",
   "nbconvert_exporter": "python",
   "pygments_lexer": "ipython3",
   "version": "3.11.11"
  }
 },
 "nbformat": 4,
 "nbformat_minor": 4
}
