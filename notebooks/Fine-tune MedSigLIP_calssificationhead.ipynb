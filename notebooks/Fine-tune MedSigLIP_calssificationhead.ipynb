{
 "cells": [
  {
   "cell_type": "markdown",
   "metadata": {
    "id": "NFU3B09TKuQf"
   },
   "source": [
    "### Install dependencies"
   ]
  },
  {
   "cell_type": "code",
   "execution_count": 1,
   "metadata": {
    "id": "Sgv3DCPIA5p-"
   },
   "outputs": [],
   "source": [
    "! pip install --quiet transformers torchvision bitsandbytes datasets evaluate peft trl scikit-learn Pillow ipywidgets jupyterlab_widgets tensorboard sentencepiece"
   ]
  },
  {
   "cell_type": "markdown",
   "metadata": {
    "id": "IXh0RtBk_Xc6"
   },
   "source": [
    "## Load model from Hugging Face Hub"
   ]
  },
  {
   "cell_type": "code",
   "execution_count": 1,
   "metadata": {},
   "outputs": [
    {
     "name": "stdout",
     "output_type": "stream",
     "text": [
      "{'type': 'user', 'id': '66a02788db7879d457bc85a7', 'name': 'shahzira', 'fullname': 'iram shahzadi', 'isPro': False, 'avatarUrl': '/avatars/831a6b0a8b6f301952da5b841abc648f.svg', 'orgs': [{'type': 'org', 'id': '6877ccbea49a907a8e8e2f76', 'name': 'IraBid-Medical-AI', 'fullname': 'IraBid Medical AI', 'email': None, 'canPay': False, 'periodEnd': None, 'avatarUrl': 'https://cdn-avatars.huggingface.co/v1/production/uploads/603945d6db430f160dced222/UvPH75zsMtl3uEJ_HK2i2.png', 'roleInOrg': 'write', 'isEnterprise': False}], 'auth': {'type': 'access_token', 'accessToken': {'displayName': 'Acute abdominal pain', 'role': 'fineGrained', 'createdAt': '2025-07-28T11:59:15.393Z', 'fineGrained': {'canReadGatedRepos': True, 'global': [], 'scoped': [{'entity': {'_id': '6877ccbea49a907a8e8e2f76', 'type': 'org', 'name': 'IraBid-Medical-AI'}, 'permissions': ['repo.content.read', 'discussion.write', 'repo.write', 'inference.serverless.write', 'org.read', 'org.write', 'collection.read', 'collection.write', 'resourceGroup.write', 'job.write']}, {'entity': {'_id': '66a02788db7879d457bc85a7', 'type': 'user', 'name': 'shahzira'}, 'permissions': ['repo.content.read', 'repo.write']}]}}}}\n"
     ]
    }
   ],
   "source": [
    "from huggingface_hub import whoami\n",
    "print(whoami())"
   ]
  },
  {
   "cell_type": "code",
   "execution_count": 2,
   "metadata": {},
   "outputs": [
    {
     "name": "stdout",
     "output_type": "stream",
     "text": [
      "Access granted!\n"
     ]
    }
   ],
   "source": [
    "from huggingface_hub import HfApi\n",
    "\n",
    "api = HfApi()\n",
    "try:\n",
    "    info = api.model_info(\"google/medsiglip-448\")\n",
    "    print(\"Access granted!\")\n",
    "except Exception as e:\n",
    "    print(f\"Access denied: {e}\")"
   ]
  },
  {
   "cell_type": "code",
   "execution_count": 3,
   "metadata": {
    "id": "r-esHCwnQFye"
   },
   "outputs": [
    {
     "name": "stderr",
     "output_type": "stream",
     "text": [
      "Using a slow image processor as `use_fast` is unset and a slow processor was saved with this model. `use_fast=True` will be the default behavior in v4.52, even if the model was saved with a slow processor. This will result in minor differences in outputs. You'll still be able to use a slow processor with `use_fast=False`.\n",
      "Xet Storage is enabled for this repo, but the 'hf_xet' package is not installed. Falling back to regular HTTP download. For better performance, install the package with: `pip install huggingface_hub[hf_xet]` or `pip install hf_xet`\n"
     ]
    },
    {
     "data": {
      "application/vnd.jupyter.widget-view+json": {
       "model_id": "b72b84f390784f84a6d0009c773f3cfe",
       "version_major": 2,
       "version_minor": 0
      },
      "text/plain": [
       "spiece.model:   0%|          | 0.00/798k [00:00<?, ?B/s]"
      ]
     },
     "metadata": {},
     "output_type": "display_data"
    },
    {
     "name": "stderr",
     "output_type": "stream",
     "text": [
      "c:\\Users\\Iram\\anaconda3\\envs\\medgemma-py311\\Lib\\site-packages\\huggingface_hub\\file_download.py:143: UserWarning: `huggingface_hub` cache-system uses symlinks by default to efficiently store duplicated files but your machine does not support them in C:\\Users\\Iram\\.cache\\huggingface\\hub\\models--google--medsiglip-448. Caching files will still work but in a degraded version that might require more space on your disk. This warning can be disabled by setting the `HF_HUB_DISABLE_SYMLINKS_WARNING` environment variable. For more details, see https://huggingface.co/docs/huggingface_hub/how-to-cache#limitations.\n",
      "To support symlinks on Windows, you either need to activate Developer Mode or to run Python as an administrator. In order to activate developer mode, see this article: https://docs.microsoft.com/en-us/windows/apps/get-started/enable-your-device-for-development\n",
      "  warnings.warn(message)\n"
     ]
    },
    {
     "data": {
      "application/vnd.jupyter.widget-view+json": {
       "model_id": "0cf4dd099b75451180a22d0a14685408",
       "version_major": 2,
       "version_minor": 0
      },
      "text/plain": [
       "special_tokens_map.json:   0%|          | 0.00/455 [00:00<?, ?B/s]"
      ]
     },
     "metadata": {},
     "output_type": "display_data"
    },
    {
     "data": {
      "application/vnd.jupyter.widget-view+json": {
       "model_id": "593e821c13fb46bfa4983fcfaad07b00",
       "version_major": 2,
       "version_minor": 0
      },
      "text/plain": [
       "tokenizer.json:   0%|          | 0.00/2.40M [00:00<?, ?B/s]"
      ]
     },
     "metadata": {},
     "output_type": "display_data"
    }
   ],
   "source": [
    "import torch\n",
    "from transformers import AutoProcessor, AutoModel\n",
    "import torch.nn as nn\n",
    "from transformers import SiglipModel\n",
    "\n",
    "model_id = \"google/medsiglip-448\"\n",
    "\n",
    "class SiglipForClassification(nn.Module):\n",
    "    def __init__(self, siglip_model, num_classes=1):  # num_classes=1 for binary classification\n",
    "        super().__init__()\n",
    "        self.siglip = siglip_model\n",
    "        self.classifier = nn.Linear(siglip_model.config.vision_config.hidden_size, num_classes)\n",
    "        self.loss_fn = nn.BCEWithLogitsLoss()  # Binary cross-entropy loss with logits\n",
    "        \n",
    "    def forward(self, pixel_values, labels=None, **kwargs):\n",
    "        # Get vision embeddings\n",
    "        vision_outputs = self.siglip.vision_model(pixel_values=pixel_values)\n",
    "        pooled_output = vision_outputs.pooler_output\n",
    "        \n",
    "        # Get logits (single output for binary classification)\n",
    "        logits = self.classifier(pooled_output)  # Shape: [batch_size, 1]\n",
    "        \n",
    "        # Compute loss if labels are provided\n",
    "        loss = None\n",
    "        if labels is not None:\n",
    "            # Ensure labels are float and have shape [batch_size, 1]\n",
    "            labels = labels.view(-1, 1).float()  # Reshape and convert to float\n",
    "            loss = self.loss_fn(logits, labels)\n",
    "        \n",
    "        return {\n",
    "            \"loss\": loss,\n",
    "            \"logits\": logits\n",
    "        }\n",
    "\n",
    "# Load base SigLIP model\n",
    "base_model = SiglipModel.from_pretrained(model_id)\n",
    "model = SiglipForClassification(base_model, num_classes=1)  # Binary classification\n",
    "processor = AutoProcessor.from_pretrained(model_id)"
   ]
  },
  {
   "cell_type": "markdown",
   "metadata": {
    "id": "LrnDCZvvzWtS"
   },
   "source": [
    "## Prepare fine-tuning dataset\n"
   ]
  },
  {
   "cell_type": "markdown",
   "metadata": {
    "id": "WTYiM4RAjJAo"
   },
   "source": [
    "Load the data using the Hugging Face `datasets` library. Then, create train and validation splits."
   ]
  },
  {
   "cell_type": "code",
   "execution_count": 5,
   "metadata": {
    "id": "IPZPx2cxCzxx",
    "outputId": "bd079de6-085b-43ef-85e3-e87cc2255288"
   },
   "outputs": [
    {
     "name": "stdout",
     "output_type": "stream",
     "text": [
      "✅ Done: Extracted to Appendicitis_vs_normal\n"
     ]
    },
    {
     "data": {
      "application/vnd.jupyter.widget-view+json": {
       "model_id": "35bc78439e724ea8a417f33e710f7539",
       "version_major": 2,
       "version_minor": 0
      },
      "text/plain": [
       "Resolving data files:   0%|          | 0/435 [00:00<?, ?it/s]"
      ]
     },
     "metadata": {},
     "output_type": "display_data"
    },
    {
     "data": {
      "application/vnd.jupyter.widget-view+json": {
       "model_id": "c5ef7a09008a453ba3fc76fff20970c4",
       "version_major": 2,
       "version_minor": 0
      },
      "text/plain": [
       "Downloading data:   0%|          | 0/435 [00:00<?, ?files/s]"
      ]
     },
     "metadata": {},
     "output_type": "display_data"
    },
    {
     "data": {
      "application/vnd.jupyter.widget-view+json": {
       "model_id": "c1390019382c4756bf5e4179cd71c424",
       "version_major": 2,
       "version_minor": 0
      },
      "text/plain": [
       "Generating train split: 0 examples [00:00, ? examples/s]"
      ]
     },
     "metadata": {},
     "output_type": "display_data"
    },
    {
     "data": {
      "application/vnd.jupyter.widget-view+json": {
       "model_id": "c8d5311f756d484a913689044d9c4528",
       "version_major": 2,
       "version_minor": 0
      },
      "text/plain": [
       "Resolving data files:   0%|          | 0/109 [00:00<?, ?it/s]"
      ]
     },
     "metadata": {},
     "output_type": "display_data"
    },
    {
     "data": {
      "application/vnd.jupyter.widget-view+json": {
       "model_id": "fd63412917994419a3cb59a273dfadab",
       "version_major": 2,
       "version_minor": 0
      },
      "text/plain": [
       "Downloading data:   0%|          | 0/109 [00:00<?, ?files/s]"
      ]
     },
     "metadata": {},
     "output_type": "display_data"
    },
    {
     "data": {
      "application/vnd.jupyter.widget-view+json": {
       "model_id": "ab407e959c13406eb6a6f822dc7e7e9c",
       "version_major": 2,
       "version_minor": 0
      },
      "text/plain": [
       "Generating train split: 0 examples [00:00, ? examples/s]"
      ]
     },
     "metadata": {},
     "output_type": "display_data"
    },
    {
     "data": {
      "application/vnd.jupyter.widget-view+json": {
       "model_id": "5047472e5fd648d7bfe449f59d44a99b",
       "version_major": 2,
       "version_minor": 0
      },
      "text/plain": [
       "Resolving data files:   0%|          | 0/137 [00:00<?, ?it/s]"
      ]
     },
     "metadata": {},
     "output_type": "display_data"
    },
    {
     "data": {
      "application/vnd.jupyter.widget-view+json": {
       "model_id": "f59bde240b094409b8da3003b9576571",
       "version_major": 2,
       "version_minor": 0
      },
      "text/plain": [
       "Downloading data:   0%|          | 0/137 [00:00<?, ?files/s]"
      ]
     },
     "metadata": {},
     "output_type": "display_data"
    },
    {
     "data": {
      "application/vnd.jupyter.widget-view+json": {
       "model_id": "d54731996df1456ba85716ee0fa20398",
       "version_major": 2,
       "version_minor": 0
      },
      "text/plain": [
       "Generating train split: 0 examples [00:00, ? examples/s]"
      ]
     },
     "metadata": {},
     "output_type": "display_data"
    },
    {
     "name": "stdout",
     "output_type": "stream",
     "text": [
      "DatasetDict({\n",
      "    train: Dataset({\n",
      "        features: ['image', 'label'],\n",
      "        num_rows: 435\n",
      "    })\n",
      "    validation: Dataset({\n",
      "        features: ['image', 'label'],\n",
      "        num_rows: 109\n",
      "    })\n",
      "    test: Dataset({\n",
      "        features: ['image', 'label'],\n",
      "        num_rows: 137\n",
      "    })\n",
      "})\n",
      "0\n"
     ]
    }
   ],
   "source": [
    "from datasets import load_dataset, Image\n",
    "\n",
    "\n",
    "# 1. Download and Unzip the data from Hub\n",
    "\n",
    "from huggingface_hub import hf_hub_download\n",
    "import zipfile\n",
    "import os\n",
    "\n",
    "# === DOWNLOAD ZIP FILE FROM HUGGING FACE DATASET REPO ===\n",
    "repo_id = \"IraBid-Medical-AI/Appendicitis_vs_normal_calssification\"\n",
    "filename = \"Appendicitis_vs_normal.zip\"\n",
    "\n",
    "# Download the ZIP to local cache\n",
    "zip_path = hf_hub_download(\n",
    "    repo_id=repo_id,\n",
    "    repo_type=\"dataset\",\n",
    "    filename=filename\n",
    ")\n",
    "\n",
    "# === UNZIP TO TARGET FOLDER ===\n",
    "extract_dir = \"Appendicitis_vs_normal\"\n",
    "os.makedirs(extract_dir, exist_ok=True)\n",
    "\n",
    "with zipfile.ZipFile(zip_path, 'r') as zip_ref:\n",
    "    zip_ref.extractall(extract_dir)\n",
    "\n",
    "print(f\"✅ Done: Extracted to {extract_dir}\")\n",
    "\n",
    "\n",
    "# 2. Load dataset\n",
    "from datasets import load_dataset, DatasetDict\n",
    "\n",
    "# Path to extracted dataset folder\n",
    "data_dir = r\"./Appendicitis_vs_normal/Appendicitis_vs_normal\"  # UPDATE this path\n",
    "\n",
    "# Define paths for each split\n",
    "train_dir = f\"{data_dir}/Training_data_png\"\n",
    "val_dir   = f\"{data_dir}/Validation_data_png\"\n",
    "test_dir  = f\"{data_dir}/Test_data_png\"\n",
    "\n",
    "# Load splits using 'imagefolder' format\n",
    "train_ds = load_dataset(\"imagefolder\", data_dir=train_dir, split=\"train\")\n",
    "val_ds   = load_dataset(\"imagefolder\", data_dir=val_dir, split=\"train\")\n",
    "test_ds  = load_dataset(\"imagefolder\", data_dir=test_dir, split=\"train\")\n",
    "\n",
    "# Combine into a DatasetDict\n",
    "data = DatasetDict({\n",
    "    \"train\": train_ds,\n",
    "    \"validation\": val_ds,\n",
    "    \"test\": test_ds,\n",
    "})\n",
    "\n",
    "print(data)\n",
    "\n",
    "# 3. Peek at a sample\n",
    "data[\"train\"][0][\"image\"]\n",
    "# Display the corresponding label\n",
    "print(data[\"train\"][0][\"label\"])\n"
   ]
  },
  {
   "cell_type": "markdown",
   "metadata": {
    "id": "V03H6cfnofY_"
   },
   "source": [
    "Inspect a sample data point, which contains:\n",
    "\n",
    "* `image`: image patch as a `PIL` image object\n",
    "* `label`: integer class label corresponding to tissue type"
   ]
  },
  {
   "cell_type": "code",
   "execution_count": 8,
   "metadata": {
    "id": "c6EduPmWC4fO",
    "outputId": "1a81aa27-b3df-46cd-b23d-b62a152df041"
   },
   "outputs": [
    {
     "data": {
      "image/jpeg": "[encoded data removed]",
      "image/png": "[encoded data removed]",
      "text/plain": [
       "<PIL.PngImagePlugin.PngImageFile image mode=RGB size=160x160>"
      ]
     },
     "execution_count": 8,
     "metadata": {},
     "output_type": "execute_result"
    }
   ],
   "source": [
    "data[\"train\"][287][\"image\"]"
   ]
  },
  {
   "cell_type": "code",
   "execution_count": 11,
   "metadata": {
    "id": "tKufzKE_C7Vt",
    "outputId": "877f2305-48d2-4a18-c693-22db671acf6b"
   },
   "outputs": [
    {
     "data": {
      "text/plain": [
       "1"
      ]
     },
     "execution_count": 11,
     "metadata": {},
     "output_type": "execute_result"
    }
   ],
   "source": [
    "data[\"train\"][287][\"label\"]"
   ]
  },
  {
   "cell_type": "markdown",
   "metadata": {
    "id": "CHOtCBFfSWyS"
   },
   "source": [
    "## Fine-tune the model\n",
    "\n",
    "Contrastive image-text learning is a method that trains models to learn the relationship between images and text, such that the representations of matching image-text pairs are brought closer together in a shared embedding space while non-matching pairs are pushed further apart.\n",
    "\n",
    "This notebook demonstrates contrastive fine-tuning of MedSigLIP, where the vision and text encoders are jointly trained on image and text data, using the `Trainer` from the Hugging Face `Transformers` library."
   ]
  },
  {
   "cell_type": "markdown",
   "metadata": {
    "id": "rrDwrz6iD3Yl"
   },
   "source": [
    "Define a data collator to prepare batches of training examples."
   ]
  },
  {
   "cell_type": "code",
   "execution_count": 12,
   "metadata": {
    "id": "QRPETOTGV81b"
   },
   "outputs": [],
   "source": [
    "import torch\n",
    "\n",
    "\n",
    "def collate_fn(examples):\n",
    "    # Extract images and labels\n",
    "    images = [example[\"image\"] for example in examples]\n",
    "    labels = [example[\"label\"] for example in examples]\n",
    "    \n",
    "    # Process images\n",
    "    batch = processor(images=images, return_tensors=\"pt\")\n",
    "    \n",
    "    # Add labels\n",
    "    batch[\"labels\"] = torch.tensor(labels, dtype=torch.float).view(-1, 1)\n",
    "    \n",
    "    return batch"
   ]
  },
  {
   "cell_type": "markdown",
   "metadata": {
    "id": "Fsaon7JoBq5H"
   },
   "source": [
    "Configure training parameters in [`TrainingArguments`](https://huggingface.co/docs/transformers/main_classes/trainer#transformers.TrainingArguments)."
   ]
  },
  {
   "cell_type": "code",
   "execution_count": 13,
   "metadata": {
    "id": "E6W_gQmfRXWx"
   },
   "outputs": [],
   "source": [
    "from transformers import TrainingArguments\n",
    "\n",
    "num_train_epochs = 1  # @param {type: \"number\"}\n",
    "learning_rate = 1e-5  # @param {type: \"number\"}\n",
    "\n",
    "training_args = TrainingArguments(\n",
    "    output_dir=\"medsiglip-appendicitis\",  # Directory and Hub repository id to save the model to\n",
    "    num_train_epochs=num_train_epochs,      # Number of training epochs\n",
    "    per_device_train_batch_size=8,          # Batch size per device during training\n",
    "    per_device_eval_batch_size=8,           # Batch size per device during evaluation\n",
    "    gradient_accumulation_steps=8,          # Number of steps before performing a backward/update pass\n",
    "    logging_steps=10,                       # Number of steps between logs\n",
    "    save_strategy=\"epoch\",                  # Save checkpoint every epoch\n",
    "    eval_strategy=\"steps\",                  # Evaluate every `eval_steps`\n",
    "    eval_steps=2,                          # Number of steps between evaluations\n",
    "    learning_rate=learning_rate,            # Learning rate\n",
    "    weight_decay=0.01,                      # Weight decay to apply\n",
    "    warmup_steps=5,                         # Number of steps for linear warmup from 0 to learning rate\n",
    "    lr_scheduler_type=\"cosine\", \n",
    "    remove_unused_columns=False,            # Use cosine learning rate scheduler\n",
    "    push_to_hub=True,                       # Push model to Hub\n",
    "    report_to=\"tensorboard\",                # Report metrics to tensorboard\n",
    ")"
   ]
  },
  {
   "cell_type": "code",
   "execution_count": 14,
   "metadata": {},
   "outputs": [
    {
     "data": {
      "application/vnd.jupyter.widget-view+json": {
       "model_id": "7d346f8e5770499ca9a0a52ff7d9b194",
       "version_major": 2,
       "version_minor": 0
      },
      "text/plain": [
       "Downloading builder script: 0.00B [00:00, ?B/s]"
      ]
     },
     "metadata": {},
     "output_type": "display_data"
    },
    {
     "data": {
      "application/vnd.jupyter.widget-view+json": {
       "model_id": "4c4715d7dae14e869798afaabf1213df",
       "version_major": 2,
       "version_minor": 0
      },
      "text/plain": [
       "Downloading builder script: 0.00B [00:00, ?B/s]"
      ]
     },
     "metadata": {},
     "output_type": "display_data"
    },
    {
     "data": {
      "application/vnd.jupyter.widget-view+json": {
       "model_id": "414dd684199f4b2794510a8f961a19d7",
       "version_major": 2,
       "version_minor": 0
      },
      "text/plain": [
       "Downloading builder script: 0.00B [00:00, ?B/s]"
      ]
     },
     "metadata": {},
     "output_type": "display_data"
    }
   ],
   "source": [
    "import evaluate\n",
    "import numpy as np\n",
    "\n",
    "# Load the metrics\n",
    "accuracy_metric = evaluate.load(\"accuracy\")\n",
    "f1_metric = evaluate.load(\"f1\")\n",
    "roc_auc_metric = evaluate.load(\"roc_auc\")\n",
    "\n",
    "def compute_metrics(eval_pred):\n",
    "    \"\"\"\n",
    "    Compute metrics for binary classification (normal vs. positive).\n",
    "    \"\"\"\n",
    "    predictions, labels = eval_pred  # predictions: [batch_size, 1], labels: [batch_size]\n",
    "    \n",
    "    # Convert logits to probabilities and predictions\n",
    "    probabilities = 1 / (1 + np.exp(-predictions))  # Sigmoid: [batch_size, 1]\n",
    "    pred_classes = (probabilities > 0.5).astype(np.int32).flatten()  # Threshold at 0.5: [batch_size]\n",
    "    \n",
    "    # Ensure labels are integers\n",
    "    labels = labels.astype(np.int32)\n",
    "    \n",
    "    # Compute metrics\n",
    "    metrics = {}\n",
    "    metrics.update(accuracy_metric.compute(\n",
    "        predictions=pred_classes,\n",
    "        references=labels,\n",
    "    ))\n",
    "    metrics.update(f1_metric.compute(\n",
    "        predictions=pred_classes,\n",
    "        references=labels,\n",
    "        average=\"binary\",\n",
    "        pos_label=1,  # Positive class\n",
    "    ))\n",
    "    # Compute ROC-AUC using positive class probabilities\n",
    "    try:\n",
    "        auc = roc_auc_metric.compute(\n",
    "            prediction_scores=probabilities.flatten(),  # Positive class probabilities\n",
    "            references=labels,\n",
    "            average=\"macro\"  # Binary classification uses macro for consistency\n",
    "        )\n",
    "        metrics.update({\"auc\": auc[\"roc_auc\"]})\n",
    "    except Exception as e:\n",
    "        metrics.update({\"auc\": None, \"auc_error\": str(e)})\n",
    "    \n",
    "    return metrics"
   ]
  },
  {
   "cell_type": "markdown",
   "metadata": {
    "id": "Z1rMdSj1Tj1K"
   },
   "source": [
    "Construct a [`Trainer`](https://huggingface.co/docs/transformers/trainer) using the previously defined training parameters and data collator."
   ]
  },
  {
   "cell_type": "code",
   "execution_count": 15,
   "metadata": {
    "id": "dWcynpm0MHDc"
   },
   "outputs": [],
   "source": [
    "from transformers import Trainer\n",
    "\n",
    "trainer = Trainer(\n",
    "    model=model,\n",
    "    args=training_args,\n",
    "    train_dataset=data[\"train\"],\n",
    "    eval_dataset=data[\"validation\"].shuffle().select(range(50)),  # Use subset of validation set for faster run\n",
    "    data_collator=collate_fn,\n",
    "    compute_metrics=compute_metrics,\n",
    ")"
   ]
  },
  {
   "cell_type": "markdown",
   "metadata": {
    "id": "RoHlpSKKVbDb"
   },
   "source": [
    "Launch the fine-tuning process.\n",
    "\n",
    "**Note:** This may take around 3 hours to run using the default configuration."
   ]
  },
  {
   "cell_type": "code",
   "execution_count": null,
   "metadata": {
    "id": "VZcOXgddDSRd",
    "outputId": "c31b7685-4f44-4be7-af97-d41778f43736"
   },
   "outputs": [],
   "source": [
    "trainer.train()"
   ]
  },
  {
   "cell_type": "markdown",
   "metadata": {
    "id": "wf9QkPFAfegp"
   },
   "source": [
    "## Evaluate the fine-tuned model on a classification task"
   ]
  },
  {
   "cell_type": "code",
   "execution_count": null,
   "metadata": {},
   "outputs": [
    {
     "name": "stdout",
     "output_type": "stream",
     "text": [
      "Test dataset size: 6688\n",
      "Evaluating model on test dataset...\n"
     ]
    },
    {
     "name": "stderr",
     "output_type": "stream",
     "text": [
      "Testing: 100%|████████████████████████████████████████████████████████████████████████████████████████████████| 209/209 [03:38<00:00,  1.04s/it]"
     ]
    },
    {
     "name": "stdout",
     "output_type": "stream",
     "text": [
      "==================================================\n",
      "EVALUATION RESULTS\n",
      "==================================================\n",
      "Overall Accuracy: 0.7220\n",
      "Weighted F1-Score: 0.7284\n",
      "Macro F1-Score: 0.5946\n",
      "\n",
      "Per-Class Metrics:\n",
      "----------------------------------------------------------------------\n",
      "Class           Precision    Recall       F1-Score     Support   \n",
      "----------------------------------------------------------------------\n",
      "normal          0.9031       0.7761       0.8348       3903      \n",
      "appendicitis    0.4055       0.4018       0.4037       550       \n",
      "cholezystitis   0.7150       0.7351       0.7249       604       \n",
      "perforation     0.5554       0.8107       0.6592       1236      \n",
      "sigmoid         0.3654       0.3367       0.3505       395       \n",
      "----------------------------------------------------------------------\n",
      "Weighted Avg    0.7492       0.7220       0.7284       6688      \n",
      "Macro Avg       0.5889       0.6121       0.5946       6688      \n",
      "\n",
      "Detailed Classification Report:\n",
      "==================================================\n",
      "               precision    recall  f1-score   support\n",
      "\n",
      "       normal     0.9031    0.7761    0.8348      3903\n",
      " appendicitis     0.4055    0.4018    0.4037       550\n",
      "cholezystitis     0.7150    0.7351    0.7249       604\n",
      "  perforation     0.5554    0.8107    0.6592      1236\n",
      "      sigmoid     0.3654    0.3367    0.3505       395\n",
      "\n",
      "     accuracy                         0.7220      6688\n",
      "    macro avg     0.5889    0.6121    0.5946      6688\n",
      " weighted avg     0.7492    0.7220    0.7284      6688\n",
      "\n",
      "\n",
      "Generating visualizations...\n"
     ]
    },
    {
     "name": "stderr",
     "output_type": "stream",
     "text": [
      "\n"
     ]
    },
    {
     "data": {
      "image/png": "[encoded data removed]",
      "text/plain": [
       "<Figure size 1000x800 with 2 Axes>"
      ]
     },
     "metadata": {},
     "output_type": "display_data"
    },
    {
     "data": {
      "image/png": "[encoded data removed]",
      "text/plain": [
       "<Figure size 1500x600 with 2 Axes>"
      ]
     },
     "metadata": {},
     "output_type": "display_data"
    }
   ],
   "source": [
    "import torch\n",
    "import numpy as np\n",
    "from torch.utils.data import DataLoader\n",
    "from sklearn.metrics import (\n",
    "    accuracy_score, \n",
    "    precision_recall_fscore_support, \n",
    "    classification_report, \n",
    "    confusion_matrix\n",
    ")\n",
    "import matplotlib.pyplot as plt\n",
    "import seaborn as sns\n",
    "from tqdm import tqdm\n",
    "\n",
    "def evaluate_model(model, test_dataset, processor, batch_size=32, device='cuda'):\n",
    "    \"\"\"\n",
    "    Comprehensive evaluation of the fine-tuned model on test data\n",
    "    \"\"\"\n",
    "    \n",
    "    # Set model to evaluation mode\n",
    "    model.eval()\n",
    "    \n",
    "    # Create test dataloader\n",
    "    test_loader = DataLoader(\n",
    "        test_dataset, \n",
    "        batch_size=batch_size, \n",
    "        shuffle=False, \n",
    "        collate_fn=collate_fn\n",
    "    )\n",
    "    \n",
    "    all_predictions = []\n",
    "    all_labels = []\n",
    "    all_logits = []\n",
    "    \n",
    "    print(\"Evaluating model on test dataset...\")\n",
    "    \n",
    "    with torch.no_grad():\n",
    "        for batch in tqdm(test_loader, desc=\"Testing\"):\n",
    "            # Move batch to device\n",
    "            pixel_values = batch['pixel_values'].to(device)\n",
    "            labels = batch['labels'].to(device)\n",
    "            \n",
    "            # Forward pass\n",
    "            outputs = model(pixel_values=pixel_values)\n",
    "            \n",
    "            # Handle different output formats\n",
    "            if isinstance(outputs, dict):\n",
    "                logits = outputs['logits']\n",
    "            else:\n",
    "                logits = outputs.logits\n",
    "            \n",
    "            # Get predictions\n",
    "            predictions = torch.argmax(logits, dim=-1)\n",
    "            \n",
    "            # Store results\n",
    "            all_predictions.extend(predictions.cpu().numpy())\n",
    "            all_labels.extend(labels.cpu().numpy())\n",
    "            all_logits.extend(logits.cpu().numpy())\n",
    "    \n",
    "    return np.array(all_predictions), np.array(all_labels), np.array(all_logits)\n",
    "\n",
    "def compute_detailed_metrics(predictions, labels, class_names):\n",
    "    \"\"\"\n",
    "    Compute detailed evaluation metrics\n",
    "    \"\"\"\n",
    "    \n",
    "    # Basic metrics\n",
    "    accuracy = accuracy_score(labels, predictions)\n",
    "    precision, recall, f1, support = precision_recall_fscore_support(\n",
    "        labels, predictions, average=None\n",
    "    )\n",
    "    \n",
    "    # Weighted averages\n",
    "    precision_weighted, recall_weighted, f1_weighted, _ = precision_recall_fscore_support(\n",
    "        labels, predictions, average='weighted'\n",
    "    )\n",
    "    \n",
    "    # Macro averages\n",
    "    precision_macro, recall_macro, f1_macro, _ = precision_recall_fscore_support(\n",
    "        labels, predictions, average='macro'\n",
    "    )\n",
    "    \n",
    "    print(\"=\"*50)\n",
    "    print(\"EVALUATION RESULTS\")\n",
    "    print(\"=\"*50)\n",
    "    print(f\"Overall Accuracy: {accuracy:.4f}\")\n",
    "    print(f\"Weighted F1-Score: {f1_weighted:.4f}\")\n",
    "    print(f\"Macro F1-Score: {f1_macro:.4f}\")\n",
    "    print()\n",
    "    \n",
    "    # Per-class metrics\n",
    "    print(\"Per-Class Metrics:\")\n",
    "    print(\"-\" * 70)\n",
    "    print(f\"{'Class':<15} {'Precision':<12} {'Recall':<12} {'F1-Score':<12} {'Support':<10}\")\n",
    "    print(\"-\" * 70)\n",
    "    \n",
    "    for i, class_name in enumerate(class_names):\n",
    "        print(f\"{class_name:<15} {precision[i]:<12.4f} {recall[i]:<12.4f} {f1[i]:<12.4f} {support[i]:<10}\")\n",
    "    \n",
    "    print(\"-\" * 70)\n",
    "    print(f\"{'Weighted Avg':<15} {precision_weighted:<12.4f} {recall_weighted:<12.4f} {f1_weighted:<12.4f} {sum(support):<10}\")\n",
    "    print(f\"{'Macro Avg':<15} {precision_macro:<12.4f} {recall_macro:<12.4f} {f1_macro:<12.4f} {sum(support):<10}\")\n",
    "    \n",
    "    return {\n",
    "        'accuracy': accuracy,\n",
    "        'precision_weighted': precision_weighted,\n",
    "        'recall_weighted': recall_weighted,\n",
    "        'f1_weighted': f1_weighted,\n",
    "        'precision_macro': precision_macro,\n",
    "        'recall_macro': recall_macro,\n",
    "        'f1_macro': f1_macro,\n",
    "        'per_class_precision': precision,\n",
    "        'per_class_recall': recall,\n",
    "        'per_class_f1': f1,\n",
    "        'support': support\n",
    "    }\n",
    "\n",
    "def plot_confusion_matrix(labels, predictions, class_names):\n",
    "    \"\"\"\n",
    "    Plot confusion matrix\n",
    "    \"\"\"\n",
    "    cm = confusion_matrix(labels, predictions)\n",
    "    \n",
    "    plt.figure(figsize=(10, 8))\n",
    "    sns.heatmap(\n",
    "        cm, \n",
    "        annot=True, \n",
    "        fmt='d', \n",
    "        cmap='Blues',\n",
    "        xticklabels=class_names,\n",
    "        yticklabels=class_names\n",
    "    )\n",
    "    plt.title('Confusion Matrix')\n",
    "    plt.xlabel('Predicted Label')\n",
    "    plt.ylabel('True Label')\n",
    "    plt.tight_layout()\n",
    "    plt.show()\n",
    "    \n",
    "    return cm\n",
    "\n",
    "def plot_class_distribution(labels, predictions, class_names):\n",
    "    \"\"\"\n",
    "    Plot class distribution comparison\n",
    "    \"\"\"\n",
    "    fig, (ax1, ax2) = plt.subplots(1, 2, figsize=(15, 6))\n",
    "    \n",
    "    # True labels distribution\n",
    "    unique_true, counts_true = np.unique(labels, return_counts=True)\n",
    "    ax1.bar([class_names[i] for i in unique_true], counts_true, color='skyblue', alpha=0.7)\n",
    "    ax1.set_title('True Label Distribution')\n",
    "    ax1.set_xlabel('Classes')\n",
    "    ax1.set_ylabel('Count')\n",
    "    ax1.tick_params(axis='x', rotation=45)\n",
    "    \n",
    "    # Predicted labels distribution\n",
    "    unique_pred, counts_pred = np.unique(predictions, return_counts=True)\n",
    "    ax2.bar([class_names[i] for i in unique_pred], counts_pred, color='lightcoral', alpha=0.7)\n",
    "    ax2.set_title('Predicted Label Distribution')\n",
    "    ax2.set_xlabel('Classes')\n",
    "    ax2.set_ylabel('Count')\n",
    "    ax2.tick_params(axis='x', rotation=45)\n",
    "    \n",
    "    plt.tight_layout()\n",
    "    plt.show()\n",
    "\n",
    "# Main evaluation script\n",
    "def run_evaluation():\n",
    "    \"\"\"\n",
    "    Main function to run complete evaluation\n",
    "    \"\"\"\n",
    "    \n",
    "    # Class names\n",
    "    ABDOMINAL_PAIN_CLASSES = ['normal', 'appendicitis', 'cholezystitis', 'perforation', 'sigmoid']\n",
    "    \n",
    "    # Get test data\n",
    "    test_data = data[\"test\"]\n",
    "    \n",
    "    print(f\"Test dataset size: {len(test_data)}\")\n",
    "    \n",
    "    # Run evaluation\n",
    "    device = torch.device('cuda' if torch.cuda.is_available() else 'cpu')\n",
    "    model.to(device)\n",
    "    \n",
    "    predictions, labels, logits = evaluate_model(\n",
    "        model, \n",
    "        test_data, \n",
    "        processor, \n",
    "        batch_size=32, \n",
    "        device=device\n",
    "    )\n",
    "    \n",
    "    # Compute metrics\n",
    "    metrics = compute_detailed_metrics(predictions, labels, ABDOMINAL_PAIN_CLASSES)\n",
    "    \n",
    "    # Generate classification report\n",
    "    print(\"\\nDetailed Classification Report:\")\n",
    "    print(\"=\"*50)\n",
    "    print(classification_report(\n",
    "        labels, \n",
    "        predictions, \n",
    "        target_names=ABDOMINAL_PAIN_CLASSES,\n",
    "        digits=4\n",
    "    ))\n",
    "    \n",
    "    # Plot visualizations\n",
    "    print(\"\\nGenerating visualizations...\")\n",
    "    cm = plot_confusion_matrix(labels, predictions, ABDOMINAL_PAIN_CLASSES)\n",
    "    plot_class_distribution(labels, predictions, ABDOMINAL_PAIN_CLASSES)\n",
    "    \n",
    "    return metrics, predictions, labels, logits\n",
    "\n",
    "# Run the evaluation\n",
    "evaluation_results = run_evaluation()\n"
   ]
  },
  {
   "cell_type": "code",
   "execution_count": null,
   "metadata": {},
   "outputs": [],
   "source": [
    "import torch\n",
    "import numpy as np\n",
    "from torch.utils.data import DataLoader\n",
    "from sklearn.metrics import (\n",
    "    accuracy_score, \n",
    "    precision_recall_fscore_support, \n",
    "    classification_report, \n",
    "    confusion_matrix,\n",
    "    roc_auc_score\n",
    ")\n",
    "import matplotlib.pyplot as plt\n",
    "import seaborn as sns\n",
    "from tqdm import tqdm\n",
    "import pandas as pd\n",
    "import os\n",
    "\n",
    "def evaluate_model(model, test_dataset, processor, image_paths, batch_size=32, device='cuda'):\n",
    "    \"\"\"\n",
    "    Comprehensive evaluation of the fine-tuned model on test data, using image_paths for test data\n",
    "    \"\"\"\n",
    "    \n",
    "    # Set model to evaluation mode\n",
    "    model.eval()\n",
    "    \n",
    "    # Create test dataloader\n",
    "    test_loader = DataLoader(\n",
    "        test_dataset, \n",
    "        batch_size=batch_size, \n",
    "        shuffle=False, \n",
    "        collate_fn=collate_fn\n",
    "    )\n",
    "    \n",
    "    all_predictions = []\n",
    "    all_labels = []\n",
    "    all_logits = []\n",
    "    all_image_paths = []\n",
    "    all_probabilities = []  # Store probabilities\n",
    "    \n",
    "    print(\"Evaluating model on test dataset...\")\n",
    "    \n",
    "    with torch.no_grad():\n",
    "        for batch_idx, batch in enumerate(tqdm(test_loader, desc=\"Testing\")):\n",
    "            # Move batch to device\n",
    "            if 'pixel_values' not in batch or 'labels' not in batch:\n",
    "                raise ValueError(\"Batch missing required keys: 'pixel_values' or 'labels'.\")\n",
    "            pixel_values = batch['pixel_values'].to(device)\n",
    "            labels = batch['labels'].to(device)  # Shape: [batch_size, 1]\n",
    "            \n",
    "            # Forward pass\n",
    "            outputs = model(pixel_values=pixel_values)\n",
    "            logits = outputs['logits']  # Shape: [batch_size, 1]\n",
    "            \n",
    "            # Get probabilities and predictions for binary classification\n",
    "            probabilities = torch.sigmoid(logits)  # Convert logits to probabilities: [batch_size, 1]\n",
    "            predictions = (probabilities > 0.5).long().view(-1)  # Threshold at 0.5: [batch_size]\n",
    "            \n",
    "            # Get image paths for the current batch\n",
    "            batch_size = len(batch['labels'])\n",
    "            start_idx = batch_idx * batch_size\n",
    "            batch_image_paths = image_paths['test'][start_idx:start_idx + batch_size]\n",
    "            if len(batch_image_paths) != batch_size:\n",
    "                raise ValueError(f\"Mismatch between batch size ({batch_size}) and image paths ({len(batch_image_paths)}) at batch {batch_idx}\")\n",
    "            \n",
    "            # Store results\n",
    "            all_predictions.extend(predictions.cpu().numpy())\n",
    "            all_labels.extend(labels.cpu().numpy().flatten())  # Flatten labels to [batch_size]\n",
    "            all_logits.extend(logits.cpu().numpy())\n",
    "            all_image_paths.extend(batch_image_paths)\n",
    "            all_probabilities.extend(probabilities.cpu().numpy().flatten())  # Store probabilities\n",
    "    \n",
    "    return np.array(all_predictions), np.array(all_labels), np.array(all_logits), all_image_paths, np.array(all_probabilities)\n",
    "\n",
    "def compute_detailed_metrics(predictions, labels, class_names, logits):\n",
    "    \"\"\"\n",
    "    Compute detailed evaluation metrics for binary classification, including ROC-AUC\n",
    "    \"\"\"\n",
    "    \n",
    "    # Basic metrics\n",
    "    accuracy = accuracy_score(labels, predictions)\n",
    "    precision, recall, f1, support = precision_recall_fscore_support(\n",
    "        labels, predictions, average=None\n",
    "    )\n",
    "    \n",
    "    # Binary averages\n",
    "    precision_binary, recall_binary, f1_binary, _ = precision_recall_fscore_support(\n",
    "        labels, predictions, average='binary', pos_label=1\n",
    "    )\n",
    "    \n",
    "    # Compute ROC-AUC score (using positive class probabilities)\n",
    "    positive_probs = 1 / (1 + np.exp(-logits))  # Sigmoid on logits: [batch_size, 1]\n",
    "    roc_auc = roc_auc_score(labels, positive_probs.flatten())\n",
    "    \n",
    "    print(\"=\"*50)\n",
    "    print(\"EVALUATION RESULTS\")\n",
    "    print(\"=\"*50)\n",
    "    print(f\"Overall Accuracy: {accuracy:.4f}\")\n",
    "    print(f\"Binary F1-Score: {f1_binary:.4f}\")\n",
    "    print(f\"ROC-AUC Score: {roc_auc:.4f}\")\n",
    "    print()\n",
    "    \n",
    "    # Per-class metrics\n",
    "    print(\"Per-Class Metrics:\")\n",
    "    print(\"-\" * 70)\n",
    "    print(f\"{'Class':<15} {'Precision':<12} {'Recall':<12} {'F1-Score':<12} {'Support':<10}\")\n",
    "    print(\"-\" * 70)\n",
    "    \n",
    "    for i, class_name in enumerate(class_names):\n",
    "        print(f\"{class_name:<15} {precision[i]:<12.4f} {recall[i]:<12.4f} {f1[i]:<12.4f} {support[i]:<10}\")\n",
    "    \n",
    "    print(\"-\" * 70)\n",
    "    print(f\"{'Binary Avg':<15} {precision_binary:<12.4f} {recall_binary:<12.4f} {f1_binary:<12.4f} {sum(support):<10}\")\n",
    "    \n",
    "    return {\n",
    "        'accuracy': accuracy,\n",
    "        'precision_binary': precision_binary,\n",
    "        'recall_binary': recall_binary,\n",
    "        'f1_binary': f1_binary,\n",
    "        'roc_auc': roc_auc,\n",
    "        'per_class_precision': precision,\n",
    "        'per_class_recall': recall,\n",
    "        'per_class_f1': f1,\n",
    "        'support': support\n",
    "    }\n",
    "\n",
    "def plot_confusion_matrix(labels, predictions, class_names):\n",
    "    \"\"\"\n",
    "    Plot confusion matrix\n",
    "    \"\"\"\n",
    "    cm = confusion_matrix(labels, predictions)\n",
    "    \n",
    "    plt.figure(figsize=(8, 6))  # Smaller figure for binary classification\n",
    "    sns.heatmap(\n",
    "        cm, \n",
    "        annot=True, \n",
    "        fmt='d', \n",
    "        cmap='Blues',\n",
    "        xticklabels=class_names,\n",
    "        yticklabels=class_names\n",
    "    )\n",
    "    plt.title('Confusion Matrix')\n",
    "    plt.xlabel('Predicted Label')\n",
    "    plt.ylabel('True Label')\n",
    "    plt.tight_layout()\n",
    "    plt.show()\n",
    "    \n",
    "    return cm\n",
    "\n",
    "def plot_class_distribution(labels, predictions, class_names):\n",
    "    \"\"\"\n",
    "    Plot class distribution comparison\n",
    "    \"\"\"\n",
    "    fig, (ax1, ax2) = plt.subplots(1, 2, figsize=(10, 5))  # Adjusted for binary classes\n",
    "    \n",
    "    # True labels distribution\n",
    "    unique_true, counts_true = np.unique(labels, return_counts=True)\n",
    "    ax1.bar([class_names[i] for i in unique_true], counts_true, color='skyblue', alpha=0.7)\n",
    "    ax1.set_title('True Label Distribution')\n",
    "    ax1.set_xlabel('Classes')\n",
    "    ax1.set_ylabel('Count')\n",
    "    ax1.tick_params(axis='x', rotation=0)  # No rotation needed for two classes\n",
    "    \n",
    "    # Predicted labels distribution\n",
    "    unique_pred, counts_pred = np.unique(predictions, return_counts=True)\n",
    "    ax2.bar([class_names[i] for i in unique_pred], counts_pred, color='lightcoral', alpha=0.7)\n",
    "    ax2.set_title('Predicted Label Distribution')\n",
    "    ax2.set_xlabel('Classes')\n",
    "    ax2.set_ylabel('Count')\n",
    "    ax2.tick_params(axis='x', rotation=0)\n",
    "    \n",
    "    plt.tight_layout()\n",
    "    plt.show()\n",
    "\n",
    "def run_evaluation(image_paths):\n",
    "    \"\"\"\n",
    "    Main function to run complete evaluation and save results to Excel with image paths and probabilities\n",
    "    \"\"\"\n",
    "    \n",
    "    # Class names for binary classification\n",
    "    ABDOMINAL_PAIN_CLASSES = ['normal', 'positive']\n",
    "    \n",
    "    # Get test data\n",
    "    test_data = data[\"test\"]\n",
    "    \n",
    "    print(f\"Test dataset size: {len(test_data)}\")\n",
    "    \n",
    "    # Validate image_paths\n",
    "    if 'test' not in image_paths:\n",
    "        raise ValueError(\"image_paths must contain 'test' split\")\n",
    "    if len(image_paths['test']) != len(test_data):\n",
    "        raise ValueError(f\"Mismatch between test dataset size ({len(test_data)}) and image_paths['test'] size ({len(image_paths['test'])})\")\n",
    "    \n",
    "    # Run evaluation\n",
    "    device = torch.device('cuda' if torch.cuda.is_available() else 'cpu')\n",
    "    model.to(device)\n",
    "    \n",
    "    predictions, labels, logits, test_image_paths, probabilities = evaluate_model(\n",
    "        model, \n",
    "        test_data, \n",
    "        processor, \n",
    "        image_paths,\n",
    "        batch_size=32, \n",
    "        device=device\n",
    "    )\n",
    "    \n",
    "    # Compute metrics\n",
    "    metrics = compute_detailed_metrics(predictions, labels, ABDOMINAL_PAIN_CLASSES, logits)\n",
    "    \n",
    "    # Generate classification report\n",
    "    print(\"\\nDetailed Classification Report:\")\n",
    "    print(\"=\"*50)\n",
    "    print(classification_report(\n",
    "        labels, \n",
    "        predictions, \n",
    "        target_names=ABDOMINAL_PAIN_CLASSES,\n",
    "        digits=4\n",
    "    ))\n",
    "    \n",
    "    # Plot visualizations\n",
    "    print(\"\\nGenerating visualizations...\")\n",
    "    cm = plot_confusion_matrix(labels, predictions, ABDOMINAL_PAIN_CLASSES)\n",
    "    plot_class_distribution(labels, predictions, ABDOMINAL_PAIN_CLASSES)\n",
    "    \n",
    "    # Save results to Excel\n",
    "    output_file = \"evaluation_results.xlsx\"\n",
    "    print(f\"\\nSaving results to {output_file}...\")\n",
    "    \n",
    "    # Map indices to class names\n",
    "    predicted_classes = [ABDOMINAL_PAIN_CLASSES[pred] for pred in predictions]\n",
    "    true_classes = [ABDOMINAL_PAIN_CLASSES[label] for label in labels]\n",
    "    \n",
    "    # Create DataFrame with probabilities\n",
    "    results_df = pd.DataFrame({\n",
    "        'Image_Path': test_image_paths,\n",
    "        'Predicted_Label': predicted_classes,\n",
    "        'True_Label': true_classes,\n",
    "        'Prediction_Index': predictions,\n",
    "        'True_Label_Index': labels,\n",
    "        'Positive_Probability': probabilities  # Add probabilities\n",
    "    })\n",
    "    \n",
    "    # Add class names as metadata (e.g., in a separate row)\n",
    "    class_names_row = pd.DataFrame({\n",
    "        'Image_Path': ['Class_Names'],\n",
    "        'Predicted_Label': [', '.join(ABDOMINAL_PAIN_CLASSES)],\n",
    "        'True_Label': [''],\n",
    "        'Prediction_Index': [''],\n",
    "        'True_Label_Index': [''],\n",
    "        'Positive_Probability': ['']\n",
    "    })\n",
    "    \n",
    "    # Concatenate results and class names\n",
    "    final_df = pd.concat([results_df, class_names_row], ignore_index=True)\n",
    "    \n",
    "    # Save to Excel\n",
    "    try:\n",
    "        final_df.to_excel(output_file, index=False, engine='openpyxl')\n",
    "        print(f\"✅ Results saved successfully to {output_file}\")\n",
    "    except Exception as e:\n",
    "        print(f\"❌ Failed to save results to Excel: {str(e)}\")\n",
    "    \n",
    "    return metrics, predictions, labels, logits, probabilities\n",
    "\n",
    "# Assuming image_paths and data_splits are defined\n",
    "data_splits = ['train', 'validation', 'test']  # Example splits\n",
    "image_paths = {\n",
    "    split: [f[\"path\"] for f in data[split].data_files]\n",
    "    for split in data_splits\n",
    "}\n",
    "\n",
    "# Run the evaluation\n",
    "evaluation_results = run_evaluation(image_paths)"
   ]
  }
 ],
 "metadata": {
  "accelerator": "GPU",
  "colab": {
   "name": "fine_tune_with_hugging_face.ipynb",
   "provenance": [],
   "toc_visible": true
  },
  "kernelspec": {
   "display_name": "medgemma-py311",
   "language": "python",
   "name": "python3"
  },
  "language_info": {
   "codemirror_mode": {
    "name": "ipython",
    "version": 3
   },
   "file_extension": ".py",
   "mimetype": "text/x-python",
   "name": "python",
   "nbconvert_exporter": "python",
   "pygments_lexer": "ipython3",
   "version": "3.11.13"
  }
 },
 "nbformat": 4,
 "nbformat_minor": 4
}
